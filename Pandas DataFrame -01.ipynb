{
 "cells": [
  {
   "cell_type": "code",
   "execution_count": 1,
   "metadata": {},
   "outputs": [],
   "source": [
    "import numpy as np"
   ]
  },
  {
   "cell_type": "code",
   "execution_count": 2,
   "metadata": {},
   "outputs": [],
   "source": [
    "import pandas as pd"
   ]
  },
  {
   "cell_type": "markdown",
   "metadata": {},
   "source": [
    "### In this tutorial we cover\n",
    "* Create a DataFrame\n",
    "* Access rows, columns, .loc(), .iloc(),\n",
    "* reset_index(), rename(), set_index(), append(),\n",
    "* drop(), sort_values(), \n"
   ]
  },
  {
   "cell_type": "markdown",
   "metadata": {},
   "source": [
    "### Pandas - DataFrame\n",
    "\n",
    "A Data frame is a two-dimensional data structure, i.e., data is aligned in a tabular fashion in rows and columns\n"
   ]
  },
  {
   "cell_type": "markdown",
   "metadata": {},
   "source": [
    "#### Create a DataFrame "
   ]
  },
  {
   "cell_type": "code",
   "execution_count": 4,
   "metadata": {},
   "outputs": [
    {
     "data": {
      "text/html": [
       "<div>\n",
       "<style scoped>\n",
       "    .dataframe tbody tr th:only-of-type {\n",
       "        vertical-align: middle;\n",
       "    }\n",
       "\n",
       "    .dataframe tbody tr th {\n",
       "        vertical-align: top;\n",
       "    }\n",
       "\n",
       "    .dataframe thead th {\n",
       "        text-align: right;\n",
       "    }\n",
       "</style>\n",
       "<table border=\"1\" class=\"dataframe\">\n",
       "  <thead>\n",
       "    <tr style=\"text-align: right;\">\n",
       "      <th></th>\n",
       "      <th>Player</th>\n",
       "      <th>Matches</th>\n",
       "      <th>Bat_Avg</th>\n",
       "      <th>Centuries</th>\n",
       "      <th>Runs</th>\n",
       "    </tr>\n",
       "  </thead>\n",
       "  <tbody>\n",
       "    <tr>\n",
       "      <th>Aus</th>\n",
       "      <td>Bradman</td>\n",
       "      <td>52</td>\n",
       "      <td>99.94</td>\n",
       "      <td>29</td>\n",
       "      <td>6996</td>\n",
       "    </tr>\n",
       "    <tr>\n",
       "      <th>WI</th>\n",
       "      <td>Sobers</td>\n",
       "      <td>93</td>\n",
       "      <td>57.78</td>\n",
       "      <td>26</td>\n",
       "      <td>8032</td>\n",
       "    </tr>\n",
       "    <tr>\n",
       "      <th>SriLanka</th>\n",
       "      <td>Sangakarra</td>\n",
       "      <td>134</td>\n",
       "      <td>57.40</td>\n",
       "      <td>38</td>\n",
       "      <td>12400</td>\n",
       "    </tr>\n",
       "    <tr>\n",
       "      <th>Ind</th>\n",
       "      <td>Tendulkar</td>\n",
       "      <td>200</td>\n",
       "      <td>53.78</td>\n",
       "      <td>51</td>\n",
       "      <td>15921</td>\n",
       "    </tr>\n",
       "    <tr>\n",
       "      <th>WI</th>\n",
       "      <td>Lara</td>\n",
       "      <td>131</td>\n",
       "      <td>52.88</td>\n",
       "      <td>34</td>\n",
       "      <td>11953</td>\n",
       "    </tr>\n",
       "    <tr>\n",
       "      <th>SA</th>\n",
       "      <td>Kallis</td>\n",
       "      <td>166</td>\n",
       "      <td>55.37</td>\n",
       "      <td>45</td>\n",
       "      <td>13289</td>\n",
       "    </tr>\n",
       "    <tr>\n",
       "      <th>Aus</th>\n",
       "      <td>Ponting</td>\n",
       "      <td>168</td>\n",
       "      <td>51.85</td>\n",
       "      <td>41</td>\n",
       "      <td>13378</td>\n",
       "    </tr>\n",
       "    <tr>\n",
       "      <th>Ind</th>\n",
       "      <td>Gavaskar</td>\n",
       "      <td>125</td>\n",
       "      <td>51.12</td>\n",
       "      <td>34</td>\n",
       "      <td>10122</td>\n",
       "    </tr>\n",
       "    <tr>\n",
       "      <th>Ind</th>\n",
       "      <td>Dravid</td>\n",
       "      <td>164</td>\n",
       "      <td>52.31</td>\n",
       "      <td>36</td>\n",
       "      <td>13288</td>\n",
       "    </tr>\n",
       "  </tbody>\n",
       "</table>\n",
       "</div>"
      ],
      "text/plain": [
       "              Player  Matches  Bat_Avg  Centuries   Runs\n",
       "Aus          Bradman       52    99.94         29   6996\n",
       "WI            Sobers       93    57.78         26   8032\n",
       "SriLanka  Sangakarra      134    57.40         38  12400\n",
       "Ind        Tendulkar      200    53.78         51  15921\n",
       "WI              Lara      131    52.88         34  11953\n",
       "SA            Kallis      166    55.37         45  13289\n",
       "Aus          Ponting      168    51.85         41  13378\n",
       "Ind         Gavaskar      125    51.12         34  10122\n",
       "Ind           Dravid      164    52.31         36  13288"
      ]
     },
     "execution_count": 4,
     "metadata": {},
     "output_type": "execute_result"
    }
   ],
   "source": [
    "data = {'Player': ['Bradman', 'Sobers', 'Sangakarra', 'Tendulkar', 'Lara', 'Kallis', 'Ponting','Gavaskar','Dravid'],\n",
    "        'Matches':[52, 93, 134, 200, 131, 166, 168, 125, 164],\n",
    "        'Bat_Avg':[99.94, 57.78, 57.40, 53.78, 52.88, 55.37, 51.85, 51.12, 52.31],\n",
    "        'Centuries':[29, 26, 38, 51, 34, 45, 41, 34, 36 ],\n",
    "        'Runs':[6996, 8032, 12400, 15921, 11953, 13289, 13378, 10122, 13288]\n",
    "       }\n",
    "\n",
    "indx = ['Aus', 'WI', 'SriLanka', 'Ind', 'WI', 'SA', 'Aus', 'Ind', 'Ind']\n",
    "\n",
    "df = pd.DataFrame(data = data, index=indx)\n",
    "df"
   ]
  },
  {
   "cell_type": "markdown",
   "metadata": {},
   "source": [
    "* Column labels : name of columns\n",
    "* Row labels : index of rows"
   ]
  },
  {
   "cell_type": "markdown",
   "metadata": {},
   "source": [
    "#### Column Labels"
   ]
  },
  {
   "cell_type": "code",
   "execution_count": 11,
   "metadata": {},
   "outputs": [
    {
     "data": {
      "text/plain": [
       "Index(['Player', 'Matches', 'Bat_Avg', 'Centuries', 'Runs'], dtype='object')"
      ]
     },
     "execution_count": 11,
     "metadata": {},
     "output_type": "execute_result"
    }
   ],
   "source": [
    "df.columns"
   ]
  },
  {
   "cell_type": "markdown",
   "metadata": {},
   "source": [
    "#### Row Labels"
   ]
  },
  {
   "cell_type": "code",
   "execution_count": 12,
   "metadata": {},
   "outputs": [
    {
     "data": {
      "text/plain": [
       "Index(['Aus', 'WI', 'SriLanka', 'Ind', 'WI', 'SA', 'Aus', 'Ind', 'Ind'], dtype='object')"
      ]
     },
     "execution_count": 12,
     "metadata": {},
     "output_type": "execute_result"
    }
   ],
   "source": [
    "df.index"
   ]
  },
  {
   "cell_type": "markdown",
   "metadata": {},
   "source": [
    "<b>Shape</b>: No. of Rows and Columns"
   ]
  },
  {
   "cell_type": "code",
   "execution_count": 14,
   "metadata": {},
   "outputs": [
    {
     "data": {
      "text/plain": [
       "(9, 5)"
      ]
     },
     "execution_count": 14,
     "metadata": {},
     "output_type": "execute_result"
    }
   ],
   "source": [
    "df.shape"
   ]
  },
  {
   "cell_type": "markdown",
   "metadata": {},
   "source": [
    "#### .memory_usage() : \n",
    "It returns a Series with the column names as labels and the memory usage in bytes as data values"
   ]
  },
  {
   "cell_type": "code",
   "execution_count": 37,
   "metadata": {},
   "outputs": [
    {
     "data": {
      "text/plain": [
       "Index        392\n",
       "Player        72\n",
       "Matches       72\n",
       "Bat_Avg       72\n",
       "Centuries     72\n",
       "Runs          72\n",
       "dtype: int64"
      ]
     },
     "execution_count": 37,
     "metadata": {},
     "output_type": "execute_result"
    }
   ],
   "source": [
    "df.memory_usage()"
   ]
  },
  {
   "cell_type": "markdown",
   "metadata": {},
   "source": [
    "<b>head()</b>: first n records"
   ]
  },
  {
   "cell_type": "code",
   "execution_count": 17,
   "metadata": {},
   "outputs": [
    {
     "data": {
      "text/html": [
       "<div>\n",
       "<style scoped>\n",
       "    .dataframe tbody tr th:only-of-type {\n",
       "        vertical-align: middle;\n",
       "    }\n",
       "\n",
       "    .dataframe tbody tr th {\n",
       "        vertical-align: top;\n",
       "    }\n",
       "\n",
       "    .dataframe thead th {\n",
       "        text-align: right;\n",
       "    }\n",
       "</style>\n",
       "<table border=\"1\" class=\"dataframe\">\n",
       "  <thead>\n",
       "    <tr style=\"text-align: right;\">\n",
       "      <th></th>\n",
       "      <th>Player</th>\n",
       "      <th>Matches</th>\n",
       "      <th>Bat_Avg</th>\n",
       "      <th>Centuries</th>\n",
       "      <th>Runs</th>\n",
       "    </tr>\n",
       "  </thead>\n",
       "  <tbody>\n",
       "    <tr>\n",
       "      <th>Aus</th>\n",
       "      <td>Bradman</td>\n",
       "      <td>52</td>\n",
       "      <td>99.94</td>\n",
       "      <td>29</td>\n",
       "      <td>6996</td>\n",
       "    </tr>\n",
       "    <tr>\n",
       "      <th>WI</th>\n",
       "      <td>Sobers</td>\n",
       "      <td>93</td>\n",
       "      <td>57.78</td>\n",
       "      <td>26</td>\n",
       "      <td>8032</td>\n",
       "    </tr>\n",
       "    <tr>\n",
       "      <th>SriLanka</th>\n",
       "      <td>Sangakarra</td>\n",
       "      <td>134</td>\n",
       "      <td>57.40</td>\n",
       "      <td>38</td>\n",
       "      <td>12400</td>\n",
       "    </tr>\n",
       "  </tbody>\n",
       "</table>\n",
       "</div>"
      ],
      "text/plain": [
       "              Player  Matches  Bat_Avg  Centuries   Runs\n",
       "Aus          Bradman       52    99.94         29   6996\n",
       "WI            Sobers       93    57.78         26   8032\n",
       "SriLanka  Sangakarra      134    57.40         38  12400"
      ]
     },
     "execution_count": 17,
     "metadata": {},
     "output_type": "execute_result"
    }
   ],
   "source": [
    "df.head(n=3)"
   ]
  },
  {
   "cell_type": "markdown",
   "metadata": {},
   "source": [
    "<b>tail()</b> : last n records"
   ]
  },
  {
   "cell_type": "code",
   "execution_count": 18,
   "metadata": {},
   "outputs": [
    {
     "data": {
      "text/html": [
       "<div>\n",
       "<style scoped>\n",
       "    .dataframe tbody tr th:only-of-type {\n",
       "        vertical-align: middle;\n",
       "    }\n",
       "\n",
       "    .dataframe tbody tr th {\n",
       "        vertical-align: top;\n",
       "    }\n",
       "\n",
       "    .dataframe thead th {\n",
       "        text-align: right;\n",
       "    }\n",
       "</style>\n",
       "<table border=\"1\" class=\"dataframe\">\n",
       "  <thead>\n",
       "    <tr style=\"text-align: right;\">\n",
       "      <th></th>\n",
       "      <th>Player</th>\n",
       "      <th>Matches</th>\n",
       "      <th>Bat_Avg</th>\n",
       "      <th>Centuries</th>\n",
       "      <th>Runs</th>\n",
       "    </tr>\n",
       "  </thead>\n",
       "  <tbody>\n",
       "    <tr>\n",
       "      <th>Aus</th>\n",
       "      <td>Ponting</td>\n",
       "      <td>168</td>\n",
       "      <td>51.85</td>\n",
       "      <td>41</td>\n",
       "      <td>13378</td>\n",
       "    </tr>\n",
       "    <tr>\n",
       "      <th>Ind</th>\n",
       "      <td>Gavaskar</td>\n",
       "      <td>125</td>\n",
       "      <td>51.12</td>\n",
       "      <td>34</td>\n",
       "      <td>10122</td>\n",
       "    </tr>\n",
       "    <tr>\n",
       "      <th>Ind</th>\n",
       "      <td>Dravid</td>\n",
       "      <td>164</td>\n",
       "      <td>52.31</td>\n",
       "      <td>36</td>\n",
       "      <td>13288</td>\n",
       "    </tr>\n",
       "  </tbody>\n",
       "</table>\n",
       "</div>"
      ],
      "text/plain": [
       "       Player  Matches  Bat_Avg  Centuries   Runs\n",
       "Aus   Ponting      168    51.85         41  13378\n",
       "Ind  Gavaskar      125    51.12         34  10122\n",
       "Ind    Dravid      164    52.31         36  13288"
      ]
     },
     "execution_count": 18,
     "metadata": {},
     "output_type": "execute_result"
    }
   ],
   "source": [
    "df.tail(n=3)"
   ]
  },
  {
   "cell_type": "markdown",
   "metadata": {},
   "source": [
    "<b> datatypes of colums </b>"
   ]
  },
  {
   "cell_type": "code",
   "execution_count": 24,
   "metadata": {},
   "outputs": [
    {
     "data": {
      "text/plain": [
       "Player        object\n",
       "Matches        int64\n",
       "Bat_Avg      float64\n",
       "Centuries      int64\n",
       "Runs           int64\n",
       "dtype: object"
      ]
     },
     "execution_count": 24,
     "metadata": {},
     "output_type": "execute_result"
    }
   ],
   "source": [
    "df.dtypes"
   ]
  },
  {
   "cell_type": "markdown",
   "metadata": {},
   "source": [
    "#### describe() : statistics related to columns"
   ]
  },
  {
   "cell_type": "code",
   "execution_count": 25,
   "metadata": {},
   "outputs": [
    {
     "data": {
      "text/html": [
       "<div>\n",
       "<style scoped>\n",
       "    .dataframe tbody tr th:only-of-type {\n",
       "        vertical-align: middle;\n",
       "    }\n",
       "\n",
       "    .dataframe tbody tr th {\n",
       "        vertical-align: top;\n",
       "    }\n",
       "\n",
       "    .dataframe thead th {\n",
       "        text-align: right;\n",
       "    }\n",
       "</style>\n",
       "<table border=\"1\" class=\"dataframe\">\n",
       "  <thead>\n",
       "    <tr style=\"text-align: right;\">\n",
       "      <th></th>\n",
       "      <th>Matches</th>\n",
       "      <th>Bat_Avg</th>\n",
       "      <th>Centuries</th>\n",
       "      <th>Runs</th>\n",
       "    </tr>\n",
       "  </thead>\n",
       "  <tbody>\n",
       "    <tr>\n",
       "      <th>count</th>\n",
       "      <td>9.000000</td>\n",
       "      <td>9.000000</td>\n",
       "      <td>9.000000</td>\n",
       "      <td>9.000000</td>\n",
       "    </tr>\n",
       "    <tr>\n",
       "      <th>mean</th>\n",
       "      <td>137.000000</td>\n",
       "      <td>59.158889</td>\n",
       "      <td>37.111111</td>\n",
       "      <td>11708.777778</td>\n",
       "    </tr>\n",
       "    <tr>\n",
       "      <th>std</th>\n",
       "      <td>44.511235</td>\n",
       "      <td>15.474808</td>\n",
       "      <td>7.753136</td>\n",
       "      <td>2835.146150</td>\n",
       "    </tr>\n",
       "    <tr>\n",
       "      <th>min</th>\n",
       "      <td>52.000000</td>\n",
       "      <td>51.120000</td>\n",
       "      <td>26.000000</td>\n",
       "      <td>6996.000000</td>\n",
       "    </tr>\n",
       "    <tr>\n",
       "      <th>25%</th>\n",
       "      <td>125.000000</td>\n",
       "      <td>52.310000</td>\n",
       "      <td>34.000000</td>\n",
       "      <td>10122.000000</td>\n",
       "    </tr>\n",
       "    <tr>\n",
       "      <th>50%</th>\n",
       "      <td>134.000000</td>\n",
       "      <td>53.780000</td>\n",
       "      <td>36.000000</td>\n",
       "      <td>12400.000000</td>\n",
       "    </tr>\n",
       "    <tr>\n",
       "      <th>75%</th>\n",
       "      <td>166.000000</td>\n",
       "      <td>57.400000</td>\n",
       "      <td>41.000000</td>\n",
       "      <td>13289.000000</td>\n",
       "    </tr>\n",
       "    <tr>\n",
       "      <th>max</th>\n",
       "      <td>200.000000</td>\n",
       "      <td>99.940000</td>\n",
       "      <td>51.000000</td>\n",
       "      <td>15921.000000</td>\n",
       "    </tr>\n",
       "  </tbody>\n",
       "</table>\n",
       "</div>"
      ],
      "text/plain": [
       "          Matches    Bat_Avg  Centuries          Runs\n",
       "count    9.000000   9.000000   9.000000      9.000000\n",
       "mean   137.000000  59.158889  37.111111  11708.777778\n",
       "std     44.511235  15.474808   7.753136   2835.146150\n",
       "min     52.000000  51.120000  26.000000   6996.000000\n",
       "25%    125.000000  52.310000  34.000000  10122.000000\n",
       "50%    134.000000  53.780000  36.000000  12400.000000\n",
       "75%    166.000000  57.400000  41.000000  13289.000000\n",
       "max    200.000000  99.940000  51.000000  15921.000000"
      ]
     },
     "execution_count": 25,
     "metadata": {},
     "output_type": "execute_result"
    }
   ],
   "source": [
    "df.describe()"
   ]
  },
  {
   "cell_type": "markdown",
   "metadata": {},
   "source": [
    "<b> Access individual column using dot notation </b>"
   ]
  },
  {
   "cell_type": "code",
   "execution_count": 19,
   "metadata": {},
   "outputs": [
    {
     "data": {
      "text/plain": [
       "Aus            Bradman\n",
       "WI              Sobers\n",
       "SriLanka    Sangakarra\n",
       "Ind          Tendulkar\n",
       "WI                Lara\n",
       "SA              Kallis\n",
       "Aus            Ponting\n",
       "Ind           Gavaskar\n",
       "Ind             Dravid\n",
       "Name: Player, dtype: object"
      ]
     },
     "execution_count": 19,
     "metadata": {},
     "output_type": "execute_result"
    }
   ],
   "source": [
    "df.Player"
   ]
  },
  {
   "cell_type": "markdown",
   "metadata": {},
   "source": [
    "#### Access individial column using square bracket "
   ]
  },
  {
   "cell_type": "code",
   "execution_count": 20,
   "metadata": {},
   "outputs": [
    {
     "data": {
      "text/plain": [
       "Aus            Bradman\n",
       "WI              Sobers\n",
       "SriLanka    Sangakarra\n",
       "Ind          Tendulkar\n",
       "WI                Lara\n",
       "SA              Kallis\n",
       "Aus            Ponting\n",
       "Ind           Gavaskar\n",
       "Ind             Dravid\n",
       "Name: Player, dtype: object"
      ]
     },
     "execution_count": 20,
     "metadata": {},
     "output_type": "execute_result"
    }
   ],
   "source": [
    "df['Player']"
   ]
  },
  {
   "cell_type": "markdown",
   "metadata": {},
   "source": [
    "#### Access methods: .loc[] and .iloc[]\n",
    "\n",
    "* .loc() : allows to access via labels\n",
    "* .iloc() : allows to access via index numbers"
   ]
  },
  {
   "cell_type": "code",
   "execution_count": 26,
   "metadata": {},
   "outputs": [
    {
     "data": {
      "text/html": [
       "<div>\n",
       "<style scoped>\n",
       "    .dataframe tbody tr th:only-of-type {\n",
       "        vertical-align: middle;\n",
       "    }\n",
       "\n",
       "    .dataframe tbody tr th {\n",
       "        vertical-align: top;\n",
       "    }\n",
       "\n",
       "    .dataframe thead th {\n",
       "        text-align: right;\n",
       "    }\n",
       "</style>\n",
       "<table border=\"1\" class=\"dataframe\">\n",
       "  <thead>\n",
       "    <tr style=\"text-align: right;\">\n",
       "      <th></th>\n",
       "      <th>Player</th>\n",
       "      <th>Matches</th>\n",
       "      <th>Bat_Avg</th>\n",
       "      <th>Centuries</th>\n",
       "      <th>Runs</th>\n",
       "    </tr>\n",
       "  </thead>\n",
       "  <tbody>\n",
       "    <tr>\n",
       "      <th>Ind</th>\n",
       "      <td>Tendulkar</td>\n",
       "      <td>200</td>\n",
       "      <td>53.78</td>\n",
       "      <td>51</td>\n",
       "      <td>15921</td>\n",
       "    </tr>\n",
       "    <tr>\n",
       "      <th>Ind</th>\n",
       "      <td>Gavaskar</td>\n",
       "      <td>125</td>\n",
       "      <td>51.12</td>\n",
       "      <td>34</td>\n",
       "      <td>10122</td>\n",
       "    </tr>\n",
       "    <tr>\n",
       "      <th>Ind</th>\n",
       "      <td>Dravid</td>\n",
       "      <td>164</td>\n",
       "      <td>52.31</td>\n",
       "      <td>36</td>\n",
       "      <td>13288</td>\n",
       "    </tr>\n",
       "  </tbody>\n",
       "</table>\n",
       "</div>"
      ],
      "text/plain": [
       "        Player  Matches  Bat_Avg  Centuries   Runs\n",
       "Ind  Tendulkar      200    53.78         51  15921\n",
       "Ind   Gavaskar      125    51.12         34  10122\n",
       "Ind     Dravid      164    52.31         36  13288"
      ]
     },
     "execution_count": 26,
     "metadata": {},
     "output_type": "execute_result"
    }
   ],
   "source": [
    "# Select All Records of Ind using .loc\n",
    "\n",
    "df.loc['Ind']"
   ]
  },
  {
   "cell_type": "code",
   "execution_count": 27,
   "metadata": {},
   "outputs": [
    {
     "data": {
      "text/html": [
       "<div>\n",
       "<style scoped>\n",
       "    .dataframe tbody tr th:only-of-type {\n",
       "        vertical-align: middle;\n",
       "    }\n",
       "\n",
       "    .dataframe tbody tr th {\n",
       "        vertical-align: top;\n",
       "    }\n",
       "\n",
       "    .dataframe thead th {\n",
       "        text-align: right;\n",
       "    }\n",
       "</style>\n",
       "<table border=\"1\" class=\"dataframe\">\n",
       "  <thead>\n",
       "    <tr style=\"text-align: right;\">\n",
       "      <th></th>\n",
       "      <th>Player</th>\n",
       "      <th>Matches</th>\n",
       "      <th>Bat_Avg</th>\n",
       "      <th>Centuries</th>\n",
       "      <th>Runs</th>\n",
       "    </tr>\n",
       "  </thead>\n",
       "  <tbody>\n",
       "    <tr>\n",
       "      <th>Aus</th>\n",
       "      <td>Bradman</td>\n",
       "      <td>52</td>\n",
       "      <td>99.94</td>\n",
       "      <td>29</td>\n",
       "      <td>6996</td>\n",
       "    </tr>\n",
       "    <tr>\n",
       "      <th>Aus</th>\n",
       "      <td>Ponting</td>\n",
       "      <td>168</td>\n",
       "      <td>51.85</td>\n",
       "      <td>41</td>\n",
       "      <td>13378</td>\n",
       "    </tr>\n",
       "    <tr>\n",
       "      <th>Ind</th>\n",
       "      <td>Tendulkar</td>\n",
       "      <td>200</td>\n",
       "      <td>53.78</td>\n",
       "      <td>51</td>\n",
       "      <td>15921</td>\n",
       "    </tr>\n",
       "    <tr>\n",
       "      <th>Ind</th>\n",
       "      <td>Gavaskar</td>\n",
       "      <td>125</td>\n",
       "      <td>51.12</td>\n",
       "      <td>34</td>\n",
       "      <td>10122</td>\n",
       "    </tr>\n",
       "    <tr>\n",
       "      <th>Ind</th>\n",
       "      <td>Dravid</td>\n",
       "      <td>164</td>\n",
       "      <td>52.31</td>\n",
       "      <td>36</td>\n",
       "      <td>13288</td>\n",
       "    </tr>\n",
       "  </tbody>\n",
       "</table>\n",
       "</div>"
      ],
      "text/plain": [
       "        Player  Matches  Bat_Avg  Centuries   Runs\n",
       "Aus    Bradman       52    99.94         29   6996\n",
       "Aus    Ponting      168    51.85         41  13378\n",
       "Ind  Tendulkar      200    53.78         51  15921\n",
       "Ind   Gavaskar      125    51.12         34  10122\n",
       "Ind     Dravid      164    52.31         36  13288"
      ]
     },
     "execution_count": 27,
     "metadata": {},
     "output_type": "execute_result"
    }
   ],
   "source": [
    "# Select All records of Ind and Aus\n",
    "\n",
    "df.loc[['Aus', 'Ind']]"
   ]
  },
  {
   "cell_type": "code",
   "execution_count": 29,
   "metadata": {},
   "outputs": [
    {
     "data": {
      "text/html": [
       "<div>\n",
       "<style scoped>\n",
       "    .dataframe tbody tr th:only-of-type {\n",
       "        vertical-align: middle;\n",
       "    }\n",
       "\n",
       "    .dataframe tbody tr th {\n",
       "        vertical-align: top;\n",
       "    }\n",
       "\n",
       "    .dataframe thead th {\n",
       "        text-align: right;\n",
       "    }\n",
       "</style>\n",
       "<table border=\"1\" class=\"dataframe\">\n",
       "  <thead>\n",
       "    <tr style=\"text-align: right;\">\n",
       "      <th></th>\n",
       "      <th>Player</th>\n",
       "      <th>Centuries</th>\n",
       "    </tr>\n",
       "  </thead>\n",
       "  <tbody>\n",
       "    <tr>\n",
       "      <th>Aus</th>\n",
       "      <td>Bradman</td>\n",
       "      <td>29</td>\n",
       "    </tr>\n",
       "    <tr>\n",
       "      <th>WI</th>\n",
       "      <td>Sobers</td>\n",
       "      <td>26</td>\n",
       "    </tr>\n",
       "    <tr>\n",
       "      <th>SriLanka</th>\n",
       "      <td>Sangakarra</td>\n",
       "      <td>38</td>\n",
       "    </tr>\n",
       "    <tr>\n",
       "      <th>Ind</th>\n",
       "      <td>Tendulkar</td>\n",
       "      <td>51</td>\n",
       "    </tr>\n",
       "    <tr>\n",
       "      <th>WI</th>\n",
       "      <td>Lara</td>\n",
       "      <td>34</td>\n",
       "    </tr>\n",
       "    <tr>\n",
       "      <th>SA</th>\n",
       "      <td>Kallis</td>\n",
       "      <td>45</td>\n",
       "    </tr>\n",
       "    <tr>\n",
       "      <th>Aus</th>\n",
       "      <td>Ponting</td>\n",
       "      <td>41</td>\n",
       "    </tr>\n",
       "    <tr>\n",
       "      <th>Ind</th>\n",
       "      <td>Gavaskar</td>\n",
       "      <td>34</td>\n",
       "    </tr>\n",
       "    <tr>\n",
       "      <th>Ind</th>\n",
       "      <td>Dravid</td>\n",
       "      <td>36</td>\n",
       "    </tr>\n",
       "  </tbody>\n",
       "</table>\n",
       "</div>"
      ],
      "text/plain": [
       "              Player  Centuries\n",
       "Aus          Bradman         29\n",
       "WI            Sobers         26\n",
       "SriLanka  Sangakarra         38\n",
       "Ind        Tendulkar         51\n",
       "WI              Lara         34\n",
       "SA            Kallis         45\n",
       "Aus          Ponting         41\n",
       "Ind         Gavaskar         34\n",
       "Ind           Dravid         36"
      ]
     },
     "execution_count": 29,
     "metadata": {},
     "output_type": "execute_result"
    }
   ],
   "source": [
    "# Select specific columns : Player name and No. of Centuries\n",
    "\n",
    "df.loc[:, ['Player', 'Centuries']]"
   ]
  },
  {
   "cell_type": "code",
   "execution_count": 30,
   "metadata": {},
   "outputs": [
    {
     "data": {
      "text/html": [
       "<div>\n",
       "<style scoped>\n",
       "    .dataframe tbody tr th:only-of-type {\n",
       "        vertical-align: middle;\n",
       "    }\n",
       "\n",
       "    .dataframe tbody tr th {\n",
       "        vertical-align: top;\n",
       "    }\n",
       "\n",
       "    .dataframe thead th {\n",
       "        text-align: right;\n",
       "    }\n",
       "</style>\n",
       "<table border=\"1\" class=\"dataframe\">\n",
       "  <thead>\n",
       "    <tr style=\"text-align: right;\">\n",
       "      <th></th>\n",
       "      <th>Player</th>\n",
       "      <th>Centuries</th>\n",
       "      <th>Bat_Avg</th>\n",
       "    </tr>\n",
       "  </thead>\n",
       "  <tbody>\n",
       "    <tr>\n",
       "      <th>Aus</th>\n",
       "      <td>Bradman</td>\n",
       "      <td>29</td>\n",
       "      <td>99.94</td>\n",
       "    </tr>\n",
       "    <tr>\n",
       "      <th>Aus</th>\n",
       "      <td>Ponting</td>\n",
       "      <td>41</td>\n",
       "      <td>51.85</td>\n",
       "    </tr>\n",
       "    <tr>\n",
       "      <th>Ind</th>\n",
       "      <td>Tendulkar</td>\n",
       "      <td>51</td>\n",
       "      <td>53.78</td>\n",
       "    </tr>\n",
       "    <tr>\n",
       "      <th>Ind</th>\n",
       "      <td>Gavaskar</td>\n",
       "      <td>34</td>\n",
       "      <td>51.12</td>\n",
       "    </tr>\n",
       "    <tr>\n",
       "      <th>Ind</th>\n",
       "      <td>Dravid</td>\n",
       "      <td>36</td>\n",
       "      <td>52.31</td>\n",
       "    </tr>\n",
       "  </tbody>\n",
       "</table>\n",
       "</div>"
      ],
      "text/plain": [
       "        Player  Centuries  Bat_Avg\n",
       "Aus    Bradman         29    99.94\n",
       "Aus    Ponting         41    51.85\n",
       "Ind  Tendulkar         51    53.78\n",
       "Ind   Gavaskar         34    51.12\n",
       "Ind     Dravid         36    52.31"
      ]
     },
     "execution_count": 30,
     "metadata": {},
     "output_type": "execute_result"
    }
   ],
   "source": [
    "# Select specific rows and columns\n",
    "\n",
    "df.loc[['Aus', 'Ind'], ['Player', 'Centuries', 'Bat_Avg']]"
   ]
  },
  {
   "cell_type": "markdown",
   "metadata": {},
   "source": [
    "#### Using iloc[]"
   ]
  },
  {
   "cell_type": "code",
   "execution_count": 31,
   "metadata": {},
   "outputs": [
    {
     "data": {
      "text/html": [
       "<div>\n",
       "<style scoped>\n",
       "    .dataframe tbody tr th:only-of-type {\n",
       "        vertical-align: middle;\n",
       "    }\n",
       "\n",
       "    .dataframe tbody tr th {\n",
       "        vertical-align: top;\n",
       "    }\n",
       "\n",
       "    .dataframe thead th {\n",
       "        text-align: right;\n",
       "    }\n",
       "</style>\n",
       "<table border=\"1\" class=\"dataframe\">\n",
       "  <thead>\n",
       "    <tr style=\"text-align: right;\">\n",
       "      <th></th>\n",
       "      <th>Player</th>\n",
       "      <th>Matches</th>\n",
       "      <th>Bat_Avg</th>\n",
       "      <th>Centuries</th>\n",
       "    </tr>\n",
       "  </thead>\n",
       "  <tbody>\n",
       "    <tr>\n",
       "      <th>Aus</th>\n",
       "      <td>Bradman</td>\n",
       "      <td>52</td>\n",
       "      <td>99.94</td>\n",
       "      <td>29</td>\n",
       "    </tr>\n",
       "    <tr>\n",
       "      <th>WI</th>\n",
       "      <td>Sobers</td>\n",
       "      <td>93</td>\n",
       "      <td>57.78</td>\n",
       "      <td>26</td>\n",
       "    </tr>\n",
       "    <tr>\n",
       "      <th>SriLanka</th>\n",
       "      <td>Sangakarra</td>\n",
       "      <td>134</td>\n",
       "      <td>57.40</td>\n",
       "      <td>38</td>\n",
       "    </tr>\n",
       "  </tbody>\n",
       "</table>\n",
       "</div>"
      ],
      "text/plain": [
       "              Player  Matches  Bat_Avg  Centuries\n",
       "Aus          Bradman       52    99.94         29\n",
       "WI            Sobers       93    57.78         26\n",
       "SriLanka  Sangakarra      134    57.40         38"
      ]
     },
     "execution_count": 31,
     "metadata": {},
     "output_type": "execute_result"
    }
   ],
   "source": [
    "# select first 3 rows and first 4 coulmns\n",
    "\n",
    "df.iloc[0:3, 0:4]"
   ]
  },
  {
   "cell_type": "markdown",
   "metadata": {},
   "source": [
    "#### Extract data from DataFrame as numpy array"
   ]
  },
  {
   "cell_type": "markdown",
   "metadata": {},
   "source": [
    "#### to_numpy() : Create 2 D array from DataFrame"
   ]
  },
  {
   "cell_type": "code",
   "execution_count": 33,
   "metadata": {},
   "outputs": [
    {
     "data": {
      "text/plain": [
       "(9, 5)"
      ]
     },
     "execution_count": 33,
     "metadata": {},
     "output_type": "execute_result"
    }
   ],
   "source": [
    "arr = df.to_numpy()\n",
    "arr.shape"
   ]
  },
  {
   "cell_type": "code",
   "execution_count": 34,
   "metadata": {},
   "outputs": [
    {
     "data": {
      "text/plain": [
       "array([['Bradman', 52, 99.94, 29, 6996],\n",
       "       ['Sobers', 93, 57.78, 26, 8032],\n",
       "       ['Sangakarra', 134, 57.4, 38, 12400],\n",
       "       ['Tendulkar', 200, 53.78, 51, 15921],\n",
       "       ['Lara', 131, 52.88, 34, 11953],\n",
       "       ['Kallis', 166, 55.37, 45, 13289],\n",
       "       ['Ponting', 168, 51.85, 41, 13378],\n",
       "       ['Gavaskar', 125, 51.12, 34, 10122],\n",
       "       ['Dravid', 164, 52.31, 36, 13288]], dtype=object)"
      ]
     },
     "execution_count": 34,
     "metadata": {},
     "output_type": "execute_result"
    }
   ],
   "source": [
    "arr"
   ]
  },
  {
   "cell_type": "markdown",
   "metadata": {},
   "source": [
    "#### .values : to create a 2D array from DataFrame"
   ]
  },
  {
   "cell_type": "code",
   "execution_count": 35,
   "metadata": {},
   "outputs": [
    {
     "data": {
      "text/plain": [
       "array([['Bradman', 52, 99.94, 29, 6996],\n",
       "       ['Sobers', 93, 57.78, 26, 8032],\n",
       "       ['Sangakarra', 134, 57.4, 38, 12400],\n",
       "       ['Tendulkar', 200, 53.78, 51, 15921],\n",
       "       ['Lara', 131, 52.88, 34, 11953],\n",
       "       ['Kallis', 166, 55.37, 45, 13289],\n",
       "       ['Ponting', 168, 51.85, 41, 13378],\n",
       "       ['Gavaskar', 125, 51.12, 34, 10122],\n",
       "       ['Dravid', 164, 52.31, 36, 13288]], dtype=object)"
      ]
     },
     "execution_count": 35,
     "metadata": {},
     "output_type": "execute_result"
    }
   ],
   "source": [
    "df.values"
   ]
  },
  {
   "cell_type": "markdown",
   "metadata": {},
   "source": [
    "#### Copy DataFrame"
   ]
  },
  {
   "cell_type": "code",
   "execution_count": 10,
   "metadata": {},
   "outputs": [],
   "source": [
    "players = df.copy(deep=True)"
   ]
  },
  {
   "cell_type": "code",
   "execution_count": 11,
   "metadata": {},
   "outputs": [
    {
     "data": {
      "text/plain": [
       "False"
      ]
     },
     "execution_count": 11,
     "metadata": {},
     "output_type": "execute_result"
    }
   ],
   "source": [
    "id(players) == id(df)"
   ]
  },
  {
   "cell_type": "markdown",
   "metadata": {},
   "source": [
    "#### reset_index()"
   ]
  },
  {
   "cell_type": "code",
   "execution_count": 12,
   "metadata": {},
   "outputs": [
    {
     "data": {
      "text/html": [
       "<div>\n",
       "<style scoped>\n",
       "    .dataframe tbody tr th:only-of-type {\n",
       "        vertical-align: middle;\n",
       "    }\n",
       "\n",
       "    .dataframe tbody tr th {\n",
       "        vertical-align: top;\n",
       "    }\n",
       "\n",
       "    .dataframe thead th {\n",
       "        text-align: right;\n",
       "    }\n",
       "</style>\n",
       "<table border=\"1\" class=\"dataframe\">\n",
       "  <thead>\n",
       "    <tr style=\"text-align: right;\">\n",
       "      <th></th>\n",
       "      <th>index</th>\n",
       "      <th>Player</th>\n",
       "      <th>Matches</th>\n",
       "      <th>Bat_Avg</th>\n",
       "      <th>Centuries</th>\n",
       "      <th>Runs</th>\n",
       "    </tr>\n",
       "  </thead>\n",
       "  <tbody>\n",
       "    <tr>\n",
       "      <th>0</th>\n",
       "      <td>Aus</td>\n",
       "      <td>Bradman</td>\n",
       "      <td>52</td>\n",
       "      <td>99.94</td>\n",
       "      <td>29</td>\n",
       "      <td>6996</td>\n",
       "    </tr>\n",
       "    <tr>\n",
       "      <th>1</th>\n",
       "      <td>WI</td>\n",
       "      <td>Sobers</td>\n",
       "      <td>93</td>\n",
       "      <td>57.78</td>\n",
       "      <td>26</td>\n",
       "      <td>8032</td>\n",
       "    </tr>\n",
       "    <tr>\n",
       "      <th>2</th>\n",
       "      <td>SriLanka</td>\n",
       "      <td>Sangakarra</td>\n",
       "      <td>134</td>\n",
       "      <td>57.40</td>\n",
       "      <td>38</td>\n",
       "      <td>12400</td>\n",
       "    </tr>\n",
       "    <tr>\n",
       "      <th>3</th>\n",
       "      <td>Ind</td>\n",
       "      <td>Tendulkar</td>\n",
       "      <td>200</td>\n",
       "      <td>53.78</td>\n",
       "      <td>51</td>\n",
       "      <td>15921</td>\n",
       "    </tr>\n",
       "    <tr>\n",
       "      <th>4</th>\n",
       "      <td>WI</td>\n",
       "      <td>Lara</td>\n",
       "      <td>131</td>\n",
       "      <td>52.88</td>\n",
       "      <td>34</td>\n",
       "      <td>11953</td>\n",
       "    </tr>\n",
       "  </tbody>\n",
       "</table>\n",
       "</div>"
      ],
      "text/plain": [
       "      index      Player  Matches  Bat_Avg  Centuries   Runs\n",
       "0       Aus     Bradman       52    99.94         29   6996\n",
       "1        WI      Sobers       93    57.78         26   8032\n",
       "2  SriLanka  Sangakarra      134    57.40         38  12400\n",
       "3       Ind   Tendulkar      200    53.78         51  15921\n",
       "4        WI        Lara      131    52.88         34  11953"
      ]
     },
     "execution_count": 12,
     "metadata": {},
     "output_type": "execute_result"
    }
   ],
   "source": [
    "players.reset_index().head()"
   ]
  },
  {
   "cell_type": "code",
   "execution_count": 13,
   "metadata": {},
   "outputs": [],
   "source": [
    "# to make changes within DataFrame \n",
    "players.reset_index(inplace=True)"
   ]
  },
  {
   "cell_type": "code",
   "execution_count": 14,
   "metadata": {},
   "outputs": [
    {
     "data": {
      "text/html": [
       "<div>\n",
       "<style scoped>\n",
       "    .dataframe tbody tr th:only-of-type {\n",
       "        vertical-align: middle;\n",
       "    }\n",
       "\n",
       "    .dataframe tbody tr th {\n",
       "        vertical-align: top;\n",
       "    }\n",
       "\n",
       "    .dataframe thead th {\n",
       "        text-align: right;\n",
       "    }\n",
       "</style>\n",
       "<table border=\"1\" class=\"dataframe\">\n",
       "  <thead>\n",
       "    <tr style=\"text-align: right;\">\n",
       "      <th></th>\n",
       "      <th>index</th>\n",
       "      <th>Player</th>\n",
       "      <th>Matches</th>\n",
       "      <th>Bat_Avg</th>\n",
       "      <th>Centuries</th>\n",
       "      <th>Runs</th>\n",
       "    </tr>\n",
       "  </thead>\n",
       "  <tbody>\n",
       "    <tr>\n",
       "      <th>0</th>\n",
       "      <td>Aus</td>\n",
       "      <td>Bradman</td>\n",
       "      <td>52</td>\n",
       "      <td>99.94</td>\n",
       "      <td>29</td>\n",
       "      <td>6996</td>\n",
       "    </tr>\n",
       "    <tr>\n",
       "      <th>1</th>\n",
       "      <td>WI</td>\n",
       "      <td>Sobers</td>\n",
       "      <td>93</td>\n",
       "      <td>57.78</td>\n",
       "      <td>26</td>\n",
       "      <td>8032</td>\n",
       "    </tr>\n",
       "    <tr>\n",
       "      <th>2</th>\n",
       "      <td>SriLanka</td>\n",
       "      <td>Sangakarra</td>\n",
       "      <td>134</td>\n",
       "      <td>57.40</td>\n",
       "      <td>38</td>\n",
       "      <td>12400</td>\n",
       "    </tr>\n",
       "    <tr>\n",
       "      <th>3</th>\n",
       "      <td>Ind</td>\n",
       "      <td>Tendulkar</td>\n",
       "      <td>200</td>\n",
       "      <td>53.78</td>\n",
       "      <td>51</td>\n",
       "      <td>15921</td>\n",
       "    </tr>\n",
       "    <tr>\n",
       "      <th>4</th>\n",
       "      <td>WI</td>\n",
       "      <td>Lara</td>\n",
       "      <td>131</td>\n",
       "      <td>52.88</td>\n",
       "      <td>34</td>\n",
       "      <td>11953</td>\n",
       "    </tr>\n",
       "  </tbody>\n",
       "</table>\n",
       "</div>"
      ],
      "text/plain": [
       "      index      Player  Matches  Bat_Avg  Centuries   Runs\n",
       "0       Aus     Bradman       52    99.94         29   6996\n",
       "1        WI      Sobers       93    57.78         26   8032\n",
       "2  SriLanka  Sangakarra      134    57.40         38  12400\n",
       "3       Ind   Tendulkar      200    53.78         51  15921\n",
       "4        WI        Lara      131    52.88         34  11953"
      ]
     },
     "execution_count": 14,
     "metadata": {},
     "output_type": "execute_result"
    }
   ],
   "source": [
    "players.head()"
   ]
  },
  {
   "cell_type": "markdown",
   "metadata": {},
   "source": [
    "#### rename column"
   ]
  },
  {
   "cell_type": "code",
   "execution_count": 15,
   "metadata": {},
   "outputs": [],
   "source": [
    "players.rename(columns={'index':'Country'}, inplace=True)"
   ]
  },
  {
   "cell_type": "code",
   "execution_count": 16,
   "metadata": {},
   "outputs": [
    {
     "data": {
      "text/html": [
       "<div>\n",
       "<style scoped>\n",
       "    .dataframe tbody tr th:only-of-type {\n",
       "        vertical-align: middle;\n",
       "    }\n",
       "\n",
       "    .dataframe tbody tr th {\n",
       "        vertical-align: top;\n",
       "    }\n",
       "\n",
       "    .dataframe thead th {\n",
       "        text-align: right;\n",
       "    }\n",
       "</style>\n",
       "<table border=\"1\" class=\"dataframe\">\n",
       "  <thead>\n",
       "    <tr style=\"text-align: right;\">\n",
       "      <th></th>\n",
       "      <th>Country</th>\n",
       "      <th>Player</th>\n",
       "      <th>Matches</th>\n",
       "      <th>Bat_Avg</th>\n",
       "      <th>Centuries</th>\n",
       "      <th>Runs</th>\n",
       "    </tr>\n",
       "  </thead>\n",
       "  <tbody>\n",
       "    <tr>\n",
       "      <th>0</th>\n",
       "      <td>Aus</td>\n",
       "      <td>Bradman</td>\n",
       "      <td>52</td>\n",
       "      <td>99.94</td>\n",
       "      <td>29</td>\n",
       "      <td>6996</td>\n",
       "    </tr>\n",
       "    <tr>\n",
       "      <th>1</th>\n",
       "      <td>WI</td>\n",
       "      <td>Sobers</td>\n",
       "      <td>93</td>\n",
       "      <td>57.78</td>\n",
       "      <td>26</td>\n",
       "      <td>8032</td>\n",
       "    </tr>\n",
       "    <tr>\n",
       "      <th>2</th>\n",
       "      <td>SriLanka</td>\n",
       "      <td>Sangakarra</td>\n",
       "      <td>134</td>\n",
       "      <td>57.40</td>\n",
       "      <td>38</td>\n",
       "      <td>12400</td>\n",
       "    </tr>\n",
       "    <tr>\n",
       "      <th>3</th>\n",
       "      <td>Ind</td>\n",
       "      <td>Tendulkar</td>\n",
       "      <td>200</td>\n",
       "      <td>53.78</td>\n",
       "      <td>51</td>\n",
       "      <td>15921</td>\n",
       "    </tr>\n",
       "    <tr>\n",
       "      <th>4</th>\n",
       "      <td>WI</td>\n",
       "      <td>Lara</td>\n",
       "      <td>131</td>\n",
       "      <td>52.88</td>\n",
       "      <td>34</td>\n",
       "      <td>11953</td>\n",
       "    </tr>\n",
       "  </tbody>\n",
       "</table>\n",
       "</div>"
      ],
      "text/plain": [
       "    Country      Player  Matches  Bat_Avg  Centuries   Runs\n",
       "0       Aus     Bradman       52    99.94         29   6996\n",
       "1        WI      Sobers       93    57.78         26   8032\n",
       "2  SriLanka  Sangakarra      134    57.40         38  12400\n",
       "3       Ind   Tendulkar      200    53.78         51  15921\n",
       "4        WI        Lara      131    52.88         34  11953"
      ]
     },
     "execution_count": 16,
     "metadata": {},
     "output_type": "execute_result"
    }
   ],
   "source": [
    "players.head()"
   ]
  },
  {
   "cell_type": "markdown",
   "metadata": {},
   "source": [
    "#### set_index()"
   ]
  },
  {
   "cell_type": "code",
   "execution_count": 17,
   "metadata": {},
   "outputs": [],
   "source": [
    "players.set_index('Player', inplace=True)"
   ]
  },
  {
   "cell_type": "code",
   "execution_count": 18,
   "metadata": {},
   "outputs": [
    {
     "data": {
      "text/html": [
       "<div>\n",
       "<style scoped>\n",
       "    .dataframe tbody tr th:only-of-type {\n",
       "        vertical-align: middle;\n",
       "    }\n",
       "\n",
       "    .dataframe tbody tr th {\n",
       "        vertical-align: top;\n",
       "    }\n",
       "\n",
       "    .dataframe thead th {\n",
       "        text-align: right;\n",
       "    }\n",
       "</style>\n",
       "<table border=\"1\" class=\"dataframe\">\n",
       "  <thead>\n",
       "    <tr style=\"text-align: right;\">\n",
       "      <th></th>\n",
       "      <th>Country</th>\n",
       "      <th>Matches</th>\n",
       "      <th>Bat_Avg</th>\n",
       "      <th>Centuries</th>\n",
       "      <th>Runs</th>\n",
       "    </tr>\n",
       "    <tr>\n",
       "      <th>Player</th>\n",
       "      <th></th>\n",
       "      <th></th>\n",
       "      <th></th>\n",
       "      <th></th>\n",
       "      <th></th>\n",
       "    </tr>\n",
       "  </thead>\n",
       "  <tbody>\n",
       "    <tr>\n",
       "      <th>Bradman</th>\n",
       "      <td>Aus</td>\n",
       "      <td>52</td>\n",
       "      <td>99.94</td>\n",
       "      <td>29</td>\n",
       "      <td>6996</td>\n",
       "    </tr>\n",
       "    <tr>\n",
       "      <th>Sobers</th>\n",
       "      <td>WI</td>\n",
       "      <td>93</td>\n",
       "      <td>57.78</td>\n",
       "      <td>26</td>\n",
       "      <td>8032</td>\n",
       "    </tr>\n",
       "    <tr>\n",
       "      <th>Sangakarra</th>\n",
       "      <td>SriLanka</td>\n",
       "      <td>134</td>\n",
       "      <td>57.40</td>\n",
       "      <td>38</td>\n",
       "      <td>12400</td>\n",
       "    </tr>\n",
       "    <tr>\n",
       "      <th>Tendulkar</th>\n",
       "      <td>Ind</td>\n",
       "      <td>200</td>\n",
       "      <td>53.78</td>\n",
       "      <td>51</td>\n",
       "      <td>15921</td>\n",
       "    </tr>\n",
       "    <tr>\n",
       "      <th>Lara</th>\n",
       "      <td>WI</td>\n",
       "      <td>131</td>\n",
       "      <td>52.88</td>\n",
       "      <td>34</td>\n",
       "      <td>11953</td>\n",
       "    </tr>\n",
       "  </tbody>\n",
       "</table>\n",
       "</div>"
      ],
      "text/plain": [
       "             Country  Matches  Bat_Avg  Centuries   Runs\n",
       "Player                                                  \n",
       "Bradman          Aus       52    99.94         29   6996\n",
       "Sobers            WI       93    57.78         26   8032\n",
       "Sangakarra  SriLanka      134    57.40         38  12400\n",
       "Tendulkar        Ind      200    53.78         51  15921\n",
       "Lara              WI      131    52.88         34  11953"
      ]
     },
     "execution_count": 18,
     "metadata": {},
     "output_type": "execute_result"
    }
   ],
   "source": [
    "players.head()"
   ]
  },
  {
   "cell_type": "markdown",
   "metadata": {},
   "source": [
    "#### Data Modification"
   ]
  },
  {
   "cell_type": "code",
   "execution_count": 19,
   "metadata": {},
   "outputs": [],
   "source": [
    "# Modify Srilanka Country Code as SL\n",
    "\n",
    "players.loc[players['Country'] == 'SriLanka', 'Country'] ='SL'"
   ]
  },
  {
   "cell_type": "code",
   "execution_count": 20,
   "metadata": {},
   "outputs": [
    {
     "data": {
      "text/html": [
       "<div>\n",
       "<style scoped>\n",
       "    .dataframe tbody tr th:only-of-type {\n",
       "        vertical-align: middle;\n",
       "    }\n",
       "\n",
       "    .dataframe tbody tr th {\n",
       "        vertical-align: top;\n",
       "    }\n",
       "\n",
       "    .dataframe thead th {\n",
       "        text-align: right;\n",
       "    }\n",
       "</style>\n",
       "<table border=\"1\" class=\"dataframe\">\n",
       "  <thead>\n",
       "    <tr style=\"text-align: right;\">\n",
       "      <th></th>\n",
       "      <th>Country</th>\n",
       "      <th>Matches</th>\n",
       "      <th>Bat_Avg</th>\n",
       "      <th>Centuries</th>\n",
       "      <th>Runs</th>\n",
       "    </tr>\n",
       "    <tr>\n",
       "      <th>Player</th>\n",
       "      <th></th>\n",
       "      <th></th>\n",
       "      <th></th>\n",
       "      <th></th>\n",
       "      <th></th>\n",
       "    </tr>\n",
       "  </thead>\n",
       "  <tbody>\n",
       "    <tr>\n",
       "      <th>Sangakarra</th>\n",
       "      <td>SL</td>\n",
       "      <td>134</td>\n",
       "      <td>57.4</td>\n",
       "      <td>38</td>\n",
       "      <td>12400</td>\n",
       "    </tr>\n",
       "  </tbody>\n",
       "</table>\n",
       "</div>"
      ],
      "text/plain": [
       "           Country  Matches  Bat_Avg  Centuries   Runs\n",
       "Player                                                \n",
       "Sangakarra      SL      134     57.4         38  12400"
      ]
     },
     "execution_count": 20,
     "metadata": {},
     "output_type": "execute_result"
    }
   ],
   "source": [
    "players.loc[['Sangakarra']]"
   ]
  },
  {
   "cell_type": "markdown",
   "metadata": {},
   "source": [
    "#### Data Insert"
   ]
  },
  {
   "cell_type": "code",
   "execution_count": 21,
   "metadata": {},
   "outputs": [
    {
     "data": {
      "text/html": [
       "<div>\n",
       "<style scoped>\n",
       "    .dataframe tbody tr th:only-of-type {\n",
       "        vertical-align: middle;\n",
       "    }\n",
       "\n",
       "    .dataframe tbody tr th {\n",
       "        vertical-align: top;\n",
       "    }\n",
       "\n",
       "    .dataframe thead th {\n",
       "        text-align: right;\n",
       "    }\n",
       "</style>\n",
       "<table border=\"1\" class=\"dataframe\">\n",
       "  <thead>\n",
       "    <tr style=\"text-align: right;\">\n",
       "      <th></th>\n",
       "      <th>Country</th>\n",
       "      <th>Matches</th>\n",
       "      <th>Bat_Avg</th>\n",
       "      <th>Centuries</th>\n",
       "      <th>Runs</th>\n",
       "    </tr>\n",
       "  </thead>\n",
       "  <tbody>\n",
       "    <tr>\n",
       "      <th>Miandad</th>\n",
       "      <td>Pak</td>\n",
       "      <td>124</td>\n",
       "      <td>52.57</td>\n",
       "      <td>23</td>\n",
       "      <td>8832</td>\n",
       "    </tr>\n",
       "    <tr>\n",
       "      <th>Border</th>\n",
       "      <td>Aus</td>\n",
       "      <td>156</td>\n",
       "      <td>50.56</td>\n",
       "      <td>27</td>\n",
       "      <td>11174</td>\n",
       "    </tr>\n",
       "  </tbody>\n",
       "</table>\n",
       "</div>"
      ],
      "text/plain": [
       "        Country  Matches  Bat_Avg  Centuries   Runs\n",
       "Miandad     Pak      124    52.57         23   8832\n",
       "Border      Aus      156    50.56         27  11174"
      ]
     },
     "execution_count": 21,
     "metadata": {},
     "output_type": "execute_result"
    }
   ],
   "source": [
    "new_data = pd.DataFrame(data = {'Country': ['Pak', 'Aus'],\n",
    "                                'Matches': [124 , 156 ],\n",
    "                                'Bat_Avg':[52.57, 50.56],\n",
    "                                'Centuries':[23, 27],\n",
    "                                'Runs':[8832, 11174]},\n",
    "                        index = ['Miandad','Border'])\n",
    "new_data               "
   ]
  },
  {
   "cell_type": "code",
   "execution_count": 22,
   "metadata": {},
   "outputs": [],
   "source": [
    "players = players.append(new_data)"
   ]
  },
  {
   "cell_type": "code",
   "execution_count": 23,
   "metadata": {},
   "outputs": [
    {
     "data": {
      "text/html": [
       "<div>\n",
       "<style scoped>\n",
       "    .dataframe tbody tr th:only-of-type {\n",
       "        vertical-align: middle;\n",
       "    }\n",
       "\n",
       "    .dataframe tbody tr th {\n",
       "        vertical-align: top;\n",
       "    }\n",
       "\n",
       "    .dataframe thead th {\n",
       "        text-align: right;\n",
       "    }\n",
       "</style>\n",
       "<table border=\"1\" class=\"dataframe\">\n",
       "  <thead>\n",
       "    <tr style=\"text-align: right;\">\n",
       "      <th></th>\n",
       "      <th>Country</th>\n",
       "      <th>Matches</th>\n",
       "      <th>Bat_Avg</th>\n",
       "      <th>Centuries</th>\n",
       "      <th>Runs</th>\n",
       "    </tr>\n",
       "  </thead>\n",
       "  <tbody>\n",
       "    <tr>\n",
       "      <th>Bradman</th>\n",
       "      <td>Aus</td>\n",
       "      <td>52</td>\n",
       "      <td>99.94</td>\n",
       "      <td>29</td>\n",
       "      <td>6996</td>\n",
       "    </tr>\n",
       "    <tr>\n",
       "      <th>Sobers</th>\n",
       "      <td>WI</td>\n",
       "      <td>93</td>\n",
       "      <td>57.78</td>\n",
       "      <td>26</td>\n",
       "      <td>8032</td>\n",
       "    </tr>\n",
       "    <tr>\n",
       "      <th>Sangakarra</th>\n",
       "      <td>SL</td>\n",
       "      <td>134</td>\n",
       "      <td>57.40</td>\n",
       "      <td>38</td>\n",
       "      <td>12400</td>\n",
       "    </tr>\n",
       "    <tr>\n",
       "      <th>Tendulkar</th>\n",
       "      <td>Ind</td>\n",
       "      <td>200</td>\n",
       "      <td>53.78</td>\n",
       "      <td>51</td>\n",
       "      <td>15921</td>\n",
       "    </tr>\n",
       "    <tr>\n",
       "      <th>Lara</th>\n",
       "      <td>WI</td>\n",
       "      <td>131</td>\n",
       "      <td>52.88</td>\n",
       "      <td>34</td>\n",
       "      <td>11953</td>\n",
       "    </tr>\n",
       "    <tr>\n",
       "      <th>Kallis</th>\n",
       "      <td>SA</td>\n",
       "      <td>166</td>\n",
       "      <td>55.37</td>\n",
       "      <td>45</td>\n",
       "      <td>13289</td>\n",
       "    </tr>\n",
       "    <tr>\n",
       "      <th>Ponting</th>\n",
       "      <td>Aus</td>\n",
       "      <td>168</td>\n",
       "      <td>51.85</td>\n",
       "      <td>41</td>\n",
       "      <td>13378</td>\n",
       "    </tr>\n",
       "    <tr>\n",
       "      <th>Gavaskar</th>\n",
       "      <td>Ind</td>\n",
       "      <td>125</td>\n",
       "      <td>51.12</td>\n",
       "      <td>34</td>\n",
       "      <td>10122</td>\n",
       "    </tr>\n",
       "    <tr>\n",
       "      <th>Dravid</th>\n",
       "      <td>Ind</td>\n",
       "      <td>164</td>\n",
       "      <td>52.31</td>\n",
       "      <td>36</td>\n",
       "      <td>13288</td>\n",
       "    </tr>\n",
       "    <tr>\n",
       "      <th>Miandad</th>\n",
       "      <td>Pak</td>\n",
       "      <td>124</td>\n",
       "      <td>52.57</td>\n",
       "      <td>23</td>\n",
       "      <td>8832</td>\n",
       "    </tr>\n",
       "    <tr>\n",
       "      <th>Border</th>\n",
       "      <td>Aus</td>\n",
       "      <td>156</td>\n",
       "      <td>50.56</td>\n",
       "      <td>27</td>\n",
       "      <td>11174</td>\n",
       "    </tr>\n",
       "  </tbody>\n",
       "</table>\n",
       "</div>"
      ],
      "text/plain": [
       "           Country  Matches  Bat_Avg  Centuries   Runs\n",
       "Bradman        Aus       52    99.94         29   6996\n",
       "Sobers          WI       93    57.78         26   8032\n",
       "Sangakarra      SL      134    57.40         38  12400\n",
       "Tendulkar      Ind      200    53.78         51  15921\n",
       "Lara            WI      131    52.88         34  11953\n",
       "Kallis          SA      166    55.37         45  13289\n",
       "Ponting        Aus      168    51.85         41  13378\n",
       "Gavaskar       Ind      125    51.12         34  10122\n",
       "Dravid         Ind      164    52.31         36  13288\n",
       "Miandad        Pak      124    52.57         23   8832\n",
       "Border         Aus      156    50.56         27  11174"
      ]
     },
     "execution_count": 23,
     "metadata": {},
     "output_type": "execute_result"
    }
   ],
   "source": [
    "players"
   ]
  },
  {
   "cell_type": "markdown",
   "metadata": {},
   "source": [
    "#### Remove/ drop"
   ]
  },
  {
   "cell_type": "code",
   "execution_count": 24,
   "metadata": {},
   "outputs": [
    {
     "data": {
      "text/html": [
       "<div>\n",
       "<style scoped>\n",
       "    .dataframe tbody tr th:only-of-type {\n",
       "        vertical-align: middle;\n",
       "    }\n",
       "\n",
       "    .dataframe tbody tr th {\n",
       "        vertical-align: top;\n",
       "    }\n",
       "\n",
       "    .dataframe thead th {\n",
       "        text-align: right;\n",
       "    }\n",
       "</style>\n",
       "<table border=\"1\" class=\"dataframe\">\n",
       "  <thead>\n",
       "    <tr style=\"text-align: right;\">\n",
       "      <th></th>\n",
       "      <th>Country</th>\n",
       "      <th>Matches</th>\n",
       "      <th>Bat_Avg</th>\n",
       "      <th>Centuries</th>\n",
       "      <th>Runs</th>\n",
       "    </tr>\n",
       "  </thead>\n",
       "  <tbody>\n",
       "    <tr>\n",
       "      <th>Miandad</th>\n",
       "      <td>Pak</td>\n",
       "      <td>124</td>\n",
       "      <td>52.57</td>\n",
       "      <td>23</td>\n",
       "      <td>8832</td>\n",
       "    </tr>\n",
       "  </tbody>\n",
       "</table>\n",
       "</div>"
      ],
      "text/plain": [
       "        Country  Matches  Bat_Avg  Centuries  Runs\n",
       "Miandad     Pak      124    52.57         23  8832"
      ]
     },
     "execution_count": 24,
     "metadata": {},
     "output_type": "execute_result"
    }
   ],
   "source": [
    "# Find Player who has scored less than 10,000 and 25 centuries\n",
    "\n",
    "players[(players.Runs < 10000) & (players.Centuries < 25)]"
   ]
  },
  {
   "cell_type": "code",
   "execution_count": 25,
   "metadata": {},
   "outputs": [],
   "source": [
    "players.drop('Miandad', inplace=True)"
   ]
  },
  {
   "cell_type": "code",
   "execution_count": 26,
   "metadata": {},
   "outputs": [
    {
     "data": {
      "text/html": [
       "<div>\n",
       "<style scoped>\n",
       "    .dataframe tbody tr th:only-of-type {\n",
       "        vertical-align: middle;\n",
       "    }\n",
       "\n",
       "    .dataframe tbody tr th {\n",
       "        vertical-align: top;\n",
       "    }\n",
       "\n",
       "    .dataframe thead th {\n",
       "        text-align: right;\n",
       "    }\n",
       "</style>\n",
       "<table border=\"1\" class=\"dataframe\">\n",
       "  <thead>\n",
       "    <tr style=\"text-align: right;\">\n",
       "      <th></th>\n",
       "      <th>Country</th>\n",
       "      <th>Matches</th>\n",
       "      <th>Bat_Avg</th>\n",
       "      <th>Centuries</th>\n",
       "      <th>Runs</th>\n",
       "    </tr>\n",
       "  </thead>\n",
       "  <tbody>\n",
       "    <tr>\n",
       "      <th>Bradman</th>\n",
       "      <td>Aus</td>\n",
       "      <td>52</td>\n",
       "      <td>99.94</td>\n",
       "      <td>29</td>\n",
       "      <td>6996</td>\n",
       "    </tr>\n",
       "    <tr>\n",
       "      <th>Sobers</th>\n",
       "      <td>WI</td>\n",
       "      <td>93</td>\n",
       "      <td>57.78</td>\n",
       "      <td>26</td>\n",
       "      <td>8032</td>\n",
       "    </tr>\n",
       "    <tr>\n",
       "      <th>Sangakarra</th>\n",
       "      <td>SL</td>\n",
       "      <td>134</td>\n",
       "      <td>57.40</td>\n",
       "      <td>38</td>\n",
       "      <td>12400</td>\n",
       "    </tr>\n",
       "    <tr>\n",
       "      <th>Tendulkar</th>\n",
       "      <td>Ind</td>\n",
       "      <td>200</td>\n",
       "      <td>53.78</td>\n",
       "      <td>51</td>\n",
       "      <td>15921</td>\n",
       "    </tr>\n",
       "    <tr>\n",
       "      <th>Lara</th>\n",
       "      <td>WI</td>\n",
       "      <td>131</td>\n",
       "      <td>52.88</td>\n",
       "      <td>34</td>\n",
       "      <td>11953</td>\n",
       "    </tr>\n",
       "    <tr>\n",
       "      <th>Kallis</th>\n",
       "      <td>SA</td>\n",
       "      <td>166</td>\n",
       "      <td>55.37</td>\n",
       "      <td>45</td>\n",
       "      <td>13289</td>\n",
       "    </tr>\n",
       "    <tr>\n",
       "      <th>Ponting</th>\n",
       "      <td>Aus</td>\n",
       "      <td>168</td>\n",
       "      <td>51.85</td>\n",
       "      <td>41</td>\n",
       "      <td>13378</td>\n",
       "    </tr>\n",
       "    <tr>\n",
       "      <th>Gavaskar</th>\n",
       "      <td>Ind</td>\n",
       "      <td>125</td>\n",
       "      <td>51.12</td>\n",
       "      <td>34</td>\n",
       "      <td>10122</td>\n",
       "    </tr>\n",
       "    <tr>\n",
       "      <th>Dravid</th>\n",
       "      <td>Ind</td>\n",
       "      <td>164</td>\n",
       "      <td>52.31</td>\n",
       "      <td>36</td>\n",
       "      <td>13288</td>\n",
       "    </tr>\n",
       "    <tr>\n",
       "      <th>Border</th>\n",
       "      <td>Aus</td>\n",
       "      <td>156</td>\n",
       "      <td>50.56</td>\n",
       "      <td>27</td>\n",
       "      <td>11174</td>\n",
       "    </tr>\n",
       "  </tbody>\n",
       "</table>\n",
       "</div>"
      ],
      "text/plain": [
       "           Country  Matches  Bat_Avg  Centuries   Runs\n",
       "Bradman        Aus       52    99.94         29   6996\n",
       "Sobers          WI       93    57.78         26   8032\n",
       "Sangakarra      SL      134    57.40         38  12400\n",
       "Tendulkar      Ind      200    53.78         51  15921\n",
       "Lara            WI      131    52.88         34  11953\n",
       "Kallis          SA      166    55.37         45  13289\n",
       "Ponting        Aus      168    51.85         41  13378\n",
       "Gavaskar       Ind      125    51.12         34  10122\n",
       "Dravid         Ind      164    52.31         36  13288\n",
       "Border         Aus      156    50.56         27  11174"
      ]
     },
     "execution_count": 26,
     "metadata": {},
     "output_type": "execute_result"
    }
   ],
   "source": [
    "players"
   ]
  },
  {
   "cell_type": "markdown",
   "metadata": {},
   "source": [
    "#### Insert a new column"
   ]
  },
  {
   "cell_type": "code",
   "execution_count": 27,
   "metadata": {},
   "outputs": [],
   "source": [
    "players.insert(loc=4, column='Highest_Score', value=np.array([334, 365, 319, 248, 400, 224, 257, 236, 270, 205]))"
   ]
  },
  {
   "cell_type": "code",
   "execution_count": 28,
   "metadata": {},
   "outputs": [],
   "source": [
    "players.insert(loc=6, column='Ducks', value=np.array([7, 12, 11, 14, 17, 16, 17, 12, 8, 11]))"
   ]
  },
  {
   "cell_type": "code",
   "execution_count": 29,
   "metadata": {},
   "outputs": [
    {
     "data": {
      "text/html": [
       "<div>\n",
       "<style scoped>\n",
       "    .dataframe tbody tr th:only-of-type {\n",
       "        vertical-align: middle;\n",
       "    }\n",
       "\n",
       "    .dataframe tbody tr th {\n",
       "        vertical-align: top;\n",
       "    }\n",
       "\n",
       "    .dataframe thead th {\n",
       "        text-align: right;\n",
       "    }\n",
       "</style>\n",
       "<table border=\"1\" class=\"dataframe\">\n",
       "  <thead>\n",
       "    <tr style=\"text-align: right;\">\n",
       "      <th></th>\n",
       "      <th>Country</th>\n",
       "      <th>Matches</th>\n",
       "      <th>Bat_Avg</th>\n",
       "      <th>Centuries</th>\n",
       "      <th>Highest_Score</th>\n",
       "      <th>Runs</th>\n",
       "      <th>Ducks</th>\n",
       "    </tr>\n",
       "  </thead>\n",
       "  <tbody>\n",
       "    <tr>\n",
       "      <th>Bradman</th>\n",
       "      <td>Aus</td>\n",
       "      <td>52</td>\n",
       "      <td>99.94</td>\n",
       "      <td>29</td>\n",
       "      <td>334</td>\n",
       "      <td>6996</td>\n",
       "      <td>7</td>\n",
       "    </tr>\n",
       "    <tr>\n",
       "      <th>Sobers</th>\n",
       "      <td>WI</td>\n",
       "      <td>93</td>\n",
       "      <td>57.78</td>\n",
       "      <td>26</td>\n",
       "      <td>365</td>\n",
       "      <td>8032</td>\n",
       "      <td>12</td>\n",
       "    </tr>\n",
       "    <tr>\n",
       "      <th>Sangakarra</th>\n",
       "      <td>SL</td>\n",
       "      <td>134</td>\n",
       "      <td>57.40</td>\n",
       "      <td>38</td>\n",
       "      <td>319</td>\n",
       "      <td>12400</td>\n",
       "      <td>11</td>\n",
       "    </tr>\n",
       "    <tr>\n",
       "      <th>Tendulkar</th>\n",
       "      <td>Ind</td>\n",
       "      <td>200</td>\n",
       "      <td>53.78</td>\n",
       "      <td>51</td>\n",
       "      <td>248</td>\n",
       "      <td>15921</td>\n",
       "      <td>14</td>\n",
       "    </tr>\n",
       "    <tr>\n",
       "      <th>Lara</th>\n",
       "      <td>WI</td>\n",
       "      <td>131</td>\n",
       "      <td>52.88</td>\n",
       "      <td>34</td>\n",
       "      <td>400</td>\n",
       "      <td>11953</td>\n",
       "      <td>17</td>\n",
       "    </tr>\n",
       "  </tbody>\n",
       "</table>\n",
       "</div>"
      ],
      "text/plain": [
       "           Country  Matches  Bat_Avg  Centuries  Highest_Score   Runs  Ducks\n",
       "Bradman        Aus       52    99.94         29            334   6996      7\n",
       "Sobers          WI       93    57.78         26            365   8032     12\n",
       "Sangakarra      SL      134    57.40         38            319  12400     11\n",
       "Tendulkar      Ind      200    53.78         51            248  15921     14\n",
       "Lara            WI      131    52.88         34            400  11953     17"
      ]
     },
     "execution_count": 29,
     "metadata": {},
     "output_type": "execute_result"
    }
   ],
   "source": [
    "players.head()"
   ]
  },
  {
   "cell_type": "code",
   "execution_count": 36,
   "metadata": {},
   "outputs": [],
   "source": [
    "players.reset_index(inplace=True)"
   ]
  },
  {
   "cell_type": "code",
   "execution_count": 45,
   "metadata": {},
   "outputs": [],
   "source": [
    "players.rename(columns={'index':'Name'},inplace=True)"
   ]
  },
  {
   "cell_type": "code",
   "execution_count": 46,
   "metadata": {},
   "outputs": [],
   "source": [
    "players.to_csv('players.csv', index=False)"
   ]
  },
  {
   "cell_type": "markdown",
   "metadata": {},
   "source": [
    "### Drop a column"
   ]
  },
  {
   "cell_type": "code",
   "execution_count": 102,
   "metadata": {},
   "outputs": [],
   "source": [
    "del players['Ducks']"
   ]
  },
  {
   "cell_type": "code",
   "execution_count": 103,
   "metadata": {},
   "outputs": [
    {
     "data": {
      "text/html": [
       "<div>\n",
       "<style scoped>\n",
       "    .dataframe tbody tr th:only-of-type {\n",
       "        vertical-align: middle;\n",
       "    }\n",
       "\n",
       "    .dataframe tbody tr th {\n",
       "        vertical-align: top;\n",
       "    }\n",
       "\n",
       "    .dataframe thead th {\n",
       "        text-align: right;\n",
       "    }\n",
       "</style>\n",
       "<table border=\"1\" class=\"dataframe\">\n",
       "  <thead>\n",
       "    <tr style=\"text-align: right;\">\n",
       "      <th></th>\n",
       "      <th>Country</th>\n",
       "      <th>Matches</th>\n",
       "      <th>Bat_Avg</th>\n",
       "      <th>Centuries</th>\n",
       "      <th>Highest_Score</th>\n",
       "      <th>Runs</th>\n",
       "    </tr>\n",
       "  </thead>\n",
       "  <tbody>\n",
       "    <tr>\n",
       "      <th>Bradman</th>\n",
       "      <td>Aus</td>\n",
       "      <td>52</td>\n",
       "      <td>99.94</td>\n",
       "      <td>29</td>\n",
       "      <td>334</td>\n",
       "      <td>6996</td>\n",
       "    </tr>\n",
       "    <tr>\n",
       "      <th>Sobers</th>\n",
       "      <td>WI</td>\n",
       "      <td>93</td>\n",
       "      <td>57.78</td>\n",
       "      <td>26</td>\n",
       "      <td>365</td>\n",
       "      <td>8032</td>\n",
       "    </tr>\n",
       "    <tr>\n",
       "      <th>Sangakarra</th>\n",
       "      <td>SL</td>\n",
       "      <td>134</td>\n",
       "      <td>57.40</td>\n",
       "      <td>38</td>\n",
       "      <td>319</td>\n",
       "      <td>12400</td>\n",
       "    </tr>\n",
       "    <tr>\n",
       "      <th>Tendulkar</th>\n",
       "      <td>Ind</td>\n",
       "      <td>200</td>\n",
       "      <td>53.78</td>\n",
       "      <td>51</td>\n",
       "      <td>248</td>\n",
       "      <td>15921</td>\n",
       "    </tr>\n",
       "    <tr>\n",
       "      <th>Lara</th>\n",
       "      <td>WI</td>\n",
       "      <td>131</td>\n",
       "      <td>52.88</td>\n",
       "      <td>34</td>\n",
       "      <td>400</td>\n",
       "      <td>11953</td>\n",
       "    </tr>\n",
       "  </tbody>\n",
       "</table>\n",
       "</div>"
      ],
      "text/plain": [
       "           Country  Matches  Bat_Avg  Centuries  Highest_Score   Runs\n",
       "Bradman        Aus       52    99.94         29            334   6996\n",
       "Sobers          WI       93    57.78         26            365   8032\n",
       "Sangakarra      SL      134    57.40         38            319  12400\n",
       "Tendulkar      Ind      200    53.78         51            248  15921\n",
       "Lara            WI      131    52.88         34            400  11953"
      ]
     },
     "execution_count": 103,
     "metadata": {},
     "output_type": "execute_result"
    }
   ],
   "source": [
    "players.head()"
   ]
  },
  {
   "cell_type": "markdown",
   "metadata": {},
   "source": [
    "#### sort_values(): Sort DataFrame"
   ]
  },
  {
   "cell_type": "code",
   "execution_count": 105,
   "metadata": {},
   "outputs": [
    {
     "data": {
      "text/html": [
       "<div>\n",
       "<style scoped>\n",
       "    .dataframe tbody tr th:only-of-type {\n",
       "        vertical-align: middle;\n",
       "    }\n",
       "\n",
       "    .dataframe tbody tr th {\n",
       "        vertical-align: top;\n",
       "    }\n",
       "\n",
       "    .dataframe thead th {\n",
       "        text-align: right;\n",
       "    }\n",
       "</style>\n",
       "<table border=\"1\" class=\"dataframe\">\n",
       "  <thead>\n",
       "    <tr style=\"text-align: right;\">\n",
       "      <th></th>\n",
       "      <th>Country</th>\n",
       "      <th>Matches</th>\n",
       "      <th>Bat_Avg</th>\n",
       "      <th>Centuries</th>\n",
       "      <th>Highest_Score</th>\n",
       "      <th>Runs</th>\n",
       "    </tr>\n",
       "  </thead>\n",
       "  <tbody>\n",
       "    <tr>\n",
       "      <th>Tendulkar</th>\n",
       "      <td>Ind</td>\n",
       "      <td>200</td>\n",
       "      <td>53.78</td>\n",
       "      <td>51</td>\n",
       "      <td>248</td>\n",
       "      <td>15921</td>\n",
       "    </tr>\n",
       "    <tr>\n",
       "      <th>Ponting</th>\n",
       "      <td>Aus</td>\n",
       "      <td>168</td>\n",
       "      <td>51.85</td>\n",
       "      <td>41</td>\n",
       "      <td>257</td>\n",
       "      <td>13378</td>\n",
       "    </tr>\n",
       "    <tr>\n",
       "      <th>Kallis</th>\n",
       "      <td>SA</td>\n",
       "      <td>166</td>\n",
       "      <td>55.37</td>\n",
       "      <td>45</td>\n",
       "      <td>224</td>\n",
       "      <td>13289</td>\n",
       "    </tr>\n",
       "  </tbody>\n",
       "</table>\n",
       "</div>"
      ],
      "text/plain": [
       "          Country  Matches  Bat_Avg  Centuries  Highest_Score   Runs\n",
       "Tendulkar     Ind      200    53.78         51            248  15921\n",
       "Ponting       Aus      168    51.85         41            257  13378\n",
       "Kallis         SA      166    55.37         45            224  13289"
      ]
     },
     "execution_count": 105,
     "metadata": {},
     "output_type": "execute_result"
    }
   ],
   "source": [
    "players.sort_values(by=['Runs'], ascending=False).head(3)"
   ]
  },
  {
   "cell_type": "code",
   "execution_count": 109,
   "metadata": {},
   "outputs": [
    {
     "data": {
      "text/html": [
       "<div>\n",
       "<style scoped>\n",
       "    .dataframe tbody tr th:only-of-type {\n",
       "        vertical-align: middle;\n",
       "    }\n",
       "\n",
       "    .dataframe tbody tr th {\n",
       "        vertical-align: top;\n",
       "    }\n",
       "\n",
       "    .dataframe thead th {\n",
       "        text-align: right;\n",
       "    }\n",
       "</style>\n",
       "<table border=\"1\" class=\"dataframe\">\n",
       "  <thead>\n",
       "    <tr style=\"text-align: right;\">\n",
       "      <th></th>\n",
       "      <th>Country</th>\n",
       "      <th>Matches</th>\n",
       "      <th>Bat_Avg</th>\n",
       "      <th>Centuries</th>\n",
       "      <th>Highest_Score</th>\n",
       "      <th>Runs</th>\n",
       "    </tr>\n",
       "  </thead>\n",
       "  <tbody>\n",
       "    <tr>\n",
       "      <th>Tendulkar</th>\n",
       "      <td>Ind</td>\n",
       "      <td>200</td>\n",
       "      <td>53.78</td>\n",
       "      <td>51</td>\n",
       "      <td>248</td>\n",
       "      <td>15921</td>\n",
       "    </tr>\n",
       "    <tr>\n",
       "      <th>Kallis</th>\n",
       "      <td>SA</td>\n",
       "      <td>166</td>\n",
       "      <td>55.37</td>\n",
       "      <td>45</td>\n",
       "      <td>224</td>\n",
       "      <td>13289</td>\n",
       "    </tr>\n",
       "    <tr>\n",
       "      <th>Ponting</th>\n",
       "      <td>Aus</td>\n",
       "      <td>168</td>\n",
       "      <td>51.85</td>\n",
       "      <td>41</td>\n",
       "      <td>257</td>\n",
       "      <td>13378</td>\n",
       "    </tr>\n",
       "  </tbody>\n",
       "</table>\n",
       "</div>"
      ],
      "text/plain": [
       "          Country  Matches  Bat_Avg  Centuries  Highest_Score   Runs\n",
       "Tendulkar     Ind      200    53.78         51            248  15921\n",
       "Kallis         SA      166    55.37         45            224  13289\n",
       "Ponting       Aus      168    51.85         41            257  13378"
      ]
     },
     "execution_count": 109,
     "metadata": {},
     "output_type": "execute_result"
    }
   ],
   "source": [
    "players.sort_values(by=['Centuries', 'Runs'], ascending=[False, False]).head(3)"
   ]
  },
  {
   "cell_type": "markdown",
   "metadata": {},
   "source": [
    "### Filter Data"
   ]
  },
  {
   "cell_type": "code",
   "execution_count": 110,
   "metadata": {},
   "outputs": [
    {
     "data": {
      "text/html": [
       "<div>\n",
       "<style scoped>\n",
       "    .dataframe tbody tr th:only-of-type {\n",
       "        vertical-align: middle;\n",
       "    }\n",
       "\n",
       "    .dataframe tbody tr th {\n",
       "        vertical-align: top;\n",
       "    }\n",
       "\n",
       "    .dataframe thead th {\n",
       "        text-align: right;\n",
       "    }\n",
       "</style>\n",
       "<table border=\"1\" class=\"dataframe\">\n",
       "  <thead>\n",
       "    <tr style=\"text-align: right;\">\n",
       "      <th></th>\n",
       "      <th>Country</th>\n",
       "      <th>Matches</th>\n",
       "      <th>Bat_Avg</th>\n",
       "      <th>Centuries</th>\n",
       "      <th>Highest_Score</th>\n",
       "      <th>Runs</th>\n",
       "    </tr>\n",
       "  </thead>\n",
       "  <tbody>\n",
       "    <tr>\n",
       "      <th>Tendulkar</th>\n",
       "      <td>Ind</td>\n",
       "      <td>200</td>\n",
       "      <td>53.78</td>\n",
       "      <td>51</td>\n",
       "      <td>248</td>\n",
       "      <td>15921</td>\n",
       "    </tr>\n",
       "    <tr>\n",
       "      <th>Kallis</th>\n",
       "      <td>SA</td>\n",
       "      <td>166</td>\n",
       "      <td>55.37</td>\n",
       "      <td>45</td>\n",
       "      <td>224</td>\n",
       "      <td>13289</td>\n",
       "    </tr>\n",
       "    <tr>\n",
       "      <th>Ponting</th>\n",
       "      <td>Aus</td>\n",
       "      <td>168</td>\n",
       "      <td>51.85</td>\n",
       "      <td>41</td>\n",
       "      <td>257</td>\n",
       "      <td>13378</td>\n",
       "    </tr>\n",
       "    <tr>\n",
       "      <th>Dravid</th>\n",
       "      <td>Ind</td>\n",
       "      <td>164</td>\n",
       "      <td>52.31</td>\n",
       "      <td>36</td>\n",
       "      <td>270</td>\n",
       "      <td>13288</td>\n",
       "    </tr>\n",
       "    <tr>\n",
       "      <th>Border</th>\n",
       "      <td>Aus</td>\n",
       "      <td>156</td>\n",
       "      <td>50.56</td>\n",
       "      <td>27</td>\n",
       "      <td>205</td>\n",
       "      <td>11174</td>\n",
       "    </tr>\n",
       "  </tbody>\n",
       "</table>\n",
       "</div>"
      ],
      "text/plain": [
       "          Country  Matches  Bat_Avg  Centuries  Highest_Score   Runs\n",
       "Tendulkar     Ind      200    53.78         51            248  15921\n",
       "Kallis         SA      166    55.37         45            224  13289\n",
       "Ponting       Aus      168    51.85         41            257  13378\n",
       "Dravid        Ind      164    52.31         36            270  13288\n",
       "Border        Aus      156    50.56         27            205  11174"
      ]
     },
     "execution_count": 110,
     "metadata": {},
     "output_type": "execute_result"
    }
   ],
   "source": [
    "# Players who played more than 150 matches\n",
    "\n",
    "players.loc[players['Matches'] > 150]"
   ]
  },
  {
   "cell_type": "code",
   "execution_count": 111,
   "metadata": {},
   "outputs": [
    {
     "data": {
      "text/html": [
       "<div>\n",
       "<style scoped>\n",
       "    .dataframe tbody tr th:only-of-type {\n",
       "        vertical-align: middle;\n",
       "    }\n",
       "\n",
       "    .dataframe tbody tr th {\n",
       "        vertical-align: top;\n",
       "    }\n",
       "\n",
       "    .dataframe thead th {\n",
       "        text-align: right;\n",
       "    }\n",
       "</style>\n",
       "<table border=\"1\" class=\"dataframe\">\n",
       "  <thead>\n",
       "    <tr style=\"text-align: right;\">\n",
       "      <th></th>\n",
       "      <th>Country</th>\n",
       "      <th>Matches</th>\n",
       "      <th>Bat_Avg</th>\n",
       "      <th>Centuries</th>\n",
       "      <th>Highest_Score</th>\n",
       "      <th>Runs</th>\n",
       "    </tr>\n",
       "  </thead>\n",
       "  <tbody>\n",
       "    <tr>\n",
       "      <th>Tendulkar</th>\n",
       "      <td>Ind</td>\n",
       "      <td>200</td>\n",
       "      <td>53.78</td>\n",
       "      <td>51</td>\n",
       "      <td>248</td>\n",
       "      <td>15921</td>\n",
       "    </tr>\n",
       "    <tr>\n",
       "      <th>Kallis</th>\n",
       "      <td>SA</td>\n",
       "      <td>166</td>\n",
       "      <td>55.37</td>\n",
       "      <td>45</td>\n",
       "      <td>224</td>\n",
       "      <td>13289</td>\n",
       "    </tr>\n",
       "    <tr>\n",
       "      <th>Ponting</th>\n",
       "      <td>Aus</td>\n",
       "      <td>168</td>\n",
       "      <td>51.85</td>\n",
       "      <td>41</td>\n",
       "      <td>257</td>\n",
       "      <td>13378</td>\n",
       "    </tr>\n",
       "    <tr>\n",
       "      <th>Dravid</th>\n",
       "      <td>Ind</td>\n",
       "      <td>164</td>\n",
       "      <td>52.31</td>\n",
       "      <td>36</td>\n",
       "      <td>270</td>\n",
       "      <td>13288</td>\n",
       "    </tr>\n",
       "  </tbody>\n",
       "</table>\n",
       "</div>"
      ],
      "text/plain": [
       "          Country  Matches  Bat_Avg  Centuries  Highest_Score   Runs\n",
       "Tendulkar     Ind      200    53.78         51            248  15921\n",
       "Kallis         SA      166    55.37         45            224  13289\n",
       "Ponting       Aus      168    51.85         41            257  13378\n",
       "Dravid        Ind      164    52.31         36            270  13288"
      ]
     },
     "execution_count": 111,
     "metadata": {},
     "output_type": "execute_result"
    }
   ],
   "source": [
    "# Players who played more than 150 matches and made atleast 35 centuries\n",
    "\n",
    "players[(players['Matches'] > 150 ) & (players['Centuries'] >=35)]"
   ]
  },
  {
   "cell_type": "code",
   "execution_count": null,
   "metadata": {},
   "outputs": [],
   "source": []
  }
 ],
 "metadata": {
  "kernelspec": {
   "display_name": "Python3_6",
   "language": "python",
   "name": "test_env_3"
  },
  "language_info": {
   "codemirror_mode": {
    "name": "ipython",
    "version": 3
   },
   "file_extension": ".py",
   "mimetype": "text/x-python",
   "name": "python",
   "nbconvert_exporter": "python",
   "pygments_lexer": "ipython3",
   "version": "3.6.10"
  }
 },
 "nbformat": 4,
 "nbformat_minor": 4
}
