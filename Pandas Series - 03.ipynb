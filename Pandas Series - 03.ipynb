{
 "cells": [
  {
   "cell_type": "code",
   "execution_count": 1,
   "metadata": {},
   "outputs": [],
   "source": [
    "import pandas as pd"
   ]
  },
  {
   "cell_type": "code",
   "execution_count": 2,
   "metadata": {},
   "outputs": [],
   "source": [
    "import numpy as np"
   ]
  },
  {
   "cell_type": "markdown",
   "metadata": {},
   "source": [
    "### Pandas Series \n",
    "In this tutorial we cover Time series related data manipulation"
   ]
  },
  {
   "cell_type": "markdown",
   "metadata": {},
   "source": [
    "### Create a date range using date_range() \n",
    "It generate datetime index of different frequency"
   ]
  },
  {
   "cell_type": "markdown",
   "metadata": {},
   "source": [
    "<b>Daily frequency</b>"
   ]
  },
  {
   "cell_type": "code",
   "execution_count": 3,
   "metadata": {},
   "outputs": [
    {
     "data": {
      "text/plain": [
       "2020-05-01    1\n",
       "2020-05-02    4\n",
       "2020-05-03    1\n",
       "2020-05-04    1\n",
       "2020-05-05    8\n",
       "2020-05-06    4\n",
       "2020-05-07    4\n",
       "Freq: D, dtype: int32"
      ]
     },
     "execution_count": 3,
     "metadata": {},
     "output_type": "execute_result"
    }
   ],
   "source": [
    "## Generate Index of Daily frequency.\n",
    "\n",
    "idx = pd.date_range(start='01-May-2020', end='07-May-2020', freq='D')\n",
    "data = np.random.randint(low=1, high=10, size=len(idx))\n",
    "\n",
    "S = pd.Series(data = data, index=idx)\n",
    "S"
   ]
  },
  {
   "cell_type": "code",
   "execution_count": 4,
   "metadata": {},
   "outputs": [
    {
     "data": {
      "text/plain": [
       "Int64Index([1, 2, 3, 4, 5, 6, 7], dtype='int64')"
      ]
     },
     "execution_count": 4,
     "metadata": {},
     "output_type": "execute_result"
    }
   ],
   "source": [
    "# Extract day\n",
    "\n",
    "S.index.day"
   ]
  },
  {
   "cell_type": "code",
   "execution_count": 5,
   "metadata": {},
   "outputs": [
    {
     "data": {
      "text/plain": [
       "2020-05-02    4\n",
       "2020-05-04    1\n",
       "2020-05-06    4\n",
       "dtype: int32"
      ]
     },
     "execution_count": 5,
     "metadata": {},
     "output_type": "execute_result"
    }
   ],
   "source": [
    "# Select records where day is in 2,4,6\n",
    "\n",
    "S[S.index.day.isin([2,4,6])]"
   ]
  },
  {
   "cell_type": "markdown",
   "metadata": {},
   "source": [
    "<b>Monthly Frequency</b>"
   ]
  },
  {
   "cell_type": "code",
   "execution_count": 6,
   "metadata": {},
   "outputs": [
    {
     "data": {
      "text/plain": [
       "2020-01-31    3\n",
       "2020-02-29    2\n",
       "2020-03-31    3\n",
       "2020-04-30    2\n",
       "2020-05-31    4\n",
       "Freq: M, dtype: int32"
      ]
     },
     "execution_count": 6,
     "metadata": {},
     "output_type": "execute_result"
    }
   ],
   "source": [
    "## Generate Index of Monthly frequency\n",
    "\n",
    "idx = pd.date_range(start='01-Jan-2020', end='31-Dec-2020', freq='M')\n",
    "data = np.random.randint(low=1, high=10, size=len(idx))\n",
    "S = pd.Series(data = data, index=idx)\n",
    "S.head()"
   ]
  },
  {
   "cell_type": "code",
   "execution_count": 7,
   "metadata": {},
   "outputs": [
    {
     "data": {
      "text/plain": [
       "2020-02-29    2\n",
       "Freq: M, dtype: int32"
      ]
     },
     "execution_count": 7,
     "metadata": {},
     "output_type": "execute_result"
    }
   ],
   "source": [
    "# Extract Month\n",
    "S[S.index.month == 2]"
   ]
  },
  {
   "cell_type": "markdown",
   "metadata": {},
   "source": [
    "<b>Quarterly Frequency</b>"
   ]
  },
  {
   "cell_type": "code",
   "execution_count": 8,
   "metadata": {},
   "outputs": [
    {
     "data": {
      "text/plain": [
       "2020-03-31    2\n",
       "2020-06-30    9\n",
       "2020-09-30    5\n",
       "2020-12-31    8\n",
       "Freq: Q-DEC, dtype: int32"
      ]
     },
     "execution_count": 8,
     "metadata": {},
     "output_type": "execute_result"
    }
   ],
   "source": [
    "## Generate Quarterly frequency \n",
    "\n",
    "idx = pd.date_range(start='01-Jan-2020', end='31-Dec-2020', freq='Q')\n",
    "data = np.random.randint(low=1, high=10, size=len(idx))\n",
    "S = pd.Series(data = data, index=idx)\n",
    "S.head()"
   ]
  },
  {
   "cell_type": "markdown",
   "metadata": {},
   "source": [
    "<b>Hourly Frequency</b>"
   ]
  },
  {
   "cell_type": "code",
   "execution_count": 9,
   "metadata": {},
   "outputs": [
    {
     "data": {
      "text/plain": [
       "2020-01-01 00:00:00    9\n",
       "2020-01-01 01:00:00    7\n",
       "2020-01-01 02:00:00    8\n",
       "2020-01-01 03:00:00    1\n",
       "2020-01-01 04:00:00    8\n",
       "Freq: H, dtype: int32"
      ]
     },
     "execution_count": 9,
     "metadata": {},
     "output_type": "execute_result"
    }
   ],
   "source": [
    "# Generate Index of Hourly Frequency\n",
    "\n",
    "idx = pd.date_range(start='01-Jan-2020', periods=10, freq='H')\n",
    "data = np.random.randint(low=1, high=10, size=len(idx))\n",
    "S = pd.Series(data = data, index=idx)\n",
    "S.head()"
   ]
  },
  {
   "cell_type": "code",
   "execution_count": 10,
   "metadata": {},
   "outputs": [
    {
     "data": {
      "text/plain": [
       "2020-01-01 01:00:00    7\n",
       "2020-01-01 05:00:00    8\n",
       "2020-01-01 07:00:00    4\n",
       "dtype: int32"
      ]
     },
     "execution_count": 10,
     "metadata": {},
     "output_type": "execute_result"
    }
   ],
   "source": [
    "# Extract hour\n",
    "\n",
    "S[S.index.hour.isin([1,5,7])]"
   ]
  },
  {
   "cell_type": "markdown",
   "metadata": {},
   "source": [
    "<b>Half hourly Frequency</b>"
   ]
  },
  {
   "cell_type": "code",
   "execution_count": 11,
   "metadata": {},
   "outputs": [
    {
     "data": {
      "text/plain": [
       "2020-01-01 00:00:00    8\n",
       "2020-01-01 00:30:00    4\n",
       "2020-01-01 01:00:00    8\n",
       "2020-01-01 01:30:00    6\n",
       "2020-01-01 02:00:00    8\n",
       "Freq: 30T, dtype: int32"
      ]
     },
     "execution_count": 11,
     "metadata": {},
     "output_type": "execute_result"
    }
   ],
   "source": [
    "# Generate Index of Half-Hourly Frequency\n",
    "\n",
    "idx = pd.date_range(start='01-Jan-2020', periods=10, freq='30min')\n",
    "data = np.random.randint(low=1, high=10, size=len(idx))\n",
    "S = pd.Series(data = data, index=idx)\n",
    "S.head()"
   ]
  },
  {
   "cell_type": "markdown",
   "metadata": {},
   "source": [
    "<b> to_datetime(): To Convert String to Datetime </b>"
   ]
  },
  {
   "cell_type": "code",
   "execution_count": 12,
   "metadata": {},
   "outputs": [
    {
     "data": {
      "text/plain": [
       "['2020-01-01 00:00:00',\n",
       " '2020-01-01 00:30:00',\n",
       " '2020-01-01 01:00:00',\n",
       " '2020-01-01 01:30:00',\n",
       " '2020-01-01 02:00:00']"
      ]
     },
     "execution_count": 12,
     "metadata": {},
     "output_type": "execute_result"
    }
   ],
   "source": [
    "# generating idx_str as string from timestamp \n",
    "idx_str = [str(ts) for ts in idx]\n",
    "\n",
    "idx_str[0:5]"
   ]
  },
  {
   "cell_type": "code",
   "execution_count": 13,
   "metadata": {},
   "outputs": [
    {
     "data": {
      "text/plain": [
       "str"
      ]
     },
     "execution_count": 13,
     "metadata": {},
     "output_type": "execute_result"
    }
   ],
   "source": [
    "# Check datatype of elements of idx_str\n",
    "type(idx_str[0])"
   ]
  },
  {
   "cell_type": "code",
   "execution_count": 14,
   "metadata": {},
   "outputs": [
    {
     "data": {
      "text/plain": [
       "DatetimeIndex(['2020-01-01 00:00:00', '2020-01-01 00:30:00',\n",
       "               '2020-01-01 01:00:00', '2020-01-01 01:30:00',\n",
       "               '2020-01-01 02:00:00', '2020-01-01 02:30:00',\n",
       "               '2020-01-01 03:00:00', '2020-01-01 03:30:00',\n",
       "               '2020-01-01 04:00:00', '2020-01-01 04:30:00'],\n",
       "              dtype='datetime64[ns]', freq=None)"
      ]
     },
     "execution_count": 14,
     "metadata": {},
     "output_type": "execute_result"
    }
   ],
   "source": [
    "# Convert strings into datetime\n",
    "pd.to_datetime(idx_str)"
   ]
  },
  {
   "cell_type": "code",
   "execution_count": 15,
   "metadata": {},
   "outputs": [
    {
     "data": {
      "text/plain": [
       "2020-01-01 00:00:00    8\n",
       "2020-01-01 00:30:00    4\n",
       "2020-01-01 01:00:00    8\n",
       "2020-01-01 01:30:00    6\n",
       "2020-01-01 02:00:00    8\n",
       "Freq: 30T, dtype: int32"
      ]
     },
     "execution_count": 15,
     "metadata": {},
     "output_type": "execute_result"
    }
   ],
   "source": [
    "S.head()"
   ]
  },
  {
   "cell_type": "markdown",
   "metadata": {},
   "source": [
    "<b>between_time(): Search between a time range </b>"
   ]
  },
  {
   "cell_type": "code",
   "execution_count": 17,
   "metadata": {},
   "outputs": [
    {
     "data": {
      "text/plain": [
       "2020-01-01 01:30:00    6\n",
       "2020-01-01 02:00:00    8\n",
       "2020-01-01 02:30:00    8\n",
       "2020-01-01 03:00:00    2\n",
       "2020-01-01 03:30:00    2\n",
       "Freq: 30T, dtype: int32"
      ]
     },
     "execution_count": 17,
     "metadata": {},
     "output_type": "execute_result"
    }
   ],
   "source": [
    "# search between 01:30 and 03:30\n",
    "\n",
    "S.between_time('01:30', '03:30')"
   ]
  },
  {
   "cell_type": "markdown",
   "metadata": {},
   "source": [
    "<b>strptime() : String to timestamps </b>"
   ]
  },
  {
   "cell_type": "code",
   "execution_count": 18,
   "metadata": {},
   "outputs": [],
   "source": [
    "from datetime import datetime"
   ]
  },
  {
   "cell_type": "code",
   "execution_count": 19,
   "metadata": {},
   "outputs": [
    {
     "data": {
      "text/plain": [
       "['May-10-2020', 'May-11-2020', 'May-12-2020', 'May-13-2020']"
      ]
     },
     "execution_count": 19,
     "metadata": {},
     "output_type": "execute_result"
    }
   ],
   "source": [
    "string_dates = ['May-10-2020', 'May-11-2020', 'May-12-2020', 'May-13-2020']\n",
    "string_dates"
   ]
  },
  {
   "cell_type": "code",
   "execution_count": 20,
   "metadata": {},
   "outputs": [
    {
     "data": {
      "text/plain": [
       "2020-05-10    2\n",
       "2020-05-11    8\n",
       "2020-05-12    7\n",
       "2020-05-13    3\n",
       "dtype: int32"
      ]
     },
     "execution_count": 20,
     "metadata": {},
     "output_type": "execute_result"
    }
   ],
   "source": [
    "new_idx = [datetime.strptime(x, '%B-%d-%Y') for x in string_dates]\n",
    "\n",
    "data = np.random.randint(low=1, high=10, size=len(new_idx))\n",
    "S = pd.Series(data = data, index=new_idx)\n",
    "S.head()"
   ]
  },
  {
   "cell_type": "markdown",
   "metadata": {},
   "source": [
    "<b> to_period()  : Convert Series from DatetimeIndex to PeriodIndex with desired frequency </b>"
   ]
  },
  {
   "cell_type": "code",
   "execution_count": 21,
   "metadata": {},
   "outputs": [
    {
     "data": {
      "text/plain": [
       "PeriodIndex(['2020-05-04/2020-05-10', '2020-05-11/2020-05-17',\n",
       "             '2020-05-11/2020-05-17', '2020-05-11/2020-05-17'],\n",
       "            dtype='period[W-SUN]', freq='W-SUN')"
      ]
     },
     "execution_count": 21,
     "metadata": {},
     "output_type": "execute_result"
    }
   ],
   "source": [
    "S.index.to_period(freq='W')"
   ]
  },
  {
   "cell_type": "markdown",
   "metadata": {},
   "source": [
    "<b> first() : </b>"
   ]
  },
  {
   "cell_type": "code",
   "execution_count": 22,
   "metadata": {},
   "outputs": [
    {
     "data": {
      "text/plain": [
       "2020-05-01 00:00:00    18\n",
       "2020-05-01 03:00:00    19\n",
       "2020-05-01 06:00:00    15\n",
       "2020-05-01 09:00:00    18\n",
       "2020-05-01 12:00:00    15\n",
       "Freq: 3H, dtype: int32"
      ]
     },
     "execution_count": 22,
     "metadata": {},
     "output_type": "execute_result"
    }
   ],
   "source": [
    "i = pd.date_range('2020-05-01', periods=15, freq='3H')\n",
    "d = np.random.randint(low=10, high=20, size=len(i))\n",
    "\n",
    "Ser = pd.Series(data = d, index=i)\n",
    "Ser.head()"
   ]
  },
  {
   "cell_type": "code",
   "execution_count": 23,
   "metadata": {},
   "outputs": [
    {
     "data": {
      "text/plain": [
       "2020-05-01 00:00:00    18\n",
       "2020-05-01 03:00:00    19\n",
       "2020-05-01 06:00:00    15\n",
       "2020-05-01 09:00:00    18\n",
       "Freq: 3H, dtype: int32"
      ]
     },
     "execution_count": 23,
     "metadata": {},
     "output_type": "execute_result"
    }
   ],
   "source": [
    "# select first 10h\n",
    "Ser.first('10h')"
   ]
  },
  {
   "cell_type": "markdown",
   "metadata": {},
   "source": [
    "<b> last() </b>"
   ]
  },
  {
   "cell_type": "code",
   "execution_count": 24,
   "metadata": {},
   "outputs": [
    {
     "data": {
      "text/plain": [
       "2020-05-02 15:00:00    15\n",
       "2020-05-02 18:00:00    13\n",
       "Freq: 3H, dtype: int32"
      ]
     },
     "execution_count": 24,
     "metadata": {},
     "output_type": "execute_result"
    }
   ],
   "source": [
    "# Select last 6h\n",
    "Ser.last('6h')"
   ]
  },
  {
   "cell_type": "markdown",
   "metadata": {},
   "source": [
    "<b> at_time() : at specific time </b>"
   ]
  },
  {
   "cell_type": "code",
   "execution_count": 25,
   "metadata": {},
   "outputs": [
    {
     "data": {
      "text/plain": [
       "2020-05-01 03:00:00    19\n",
       "2020-05-02 03:00:00    17\n",
       "Freq: 24H, dtype: int32"
      ]
     },
     "execution_count": 25,
     "metadata": {},
     "output_type": "execute_result"
    }
   ],
   "source": [
    "Ser.at_time('03:00')"
   ]
  },
  {
   "cell_type": "markdown",
   "metadata": {},
   "source": [
    "### pandas.Series.dt.date\n",
    "<p>Series.dt can be used to access the values of the series as datetimelike and return several properties. Pandas Series.dt.date attribute return a numpy array of python datetime.date objects.</p>"
   ]
  },
  {
   "cell_type": "code",
   "execution_count": 26,
   "metadata": {},
   "outputs": [
    {
     "data": {
      "text/plain": [
       "0   2020-05-01 00:00:00\n",
       "1   2020-05-01 08:00:00\n",
       "2   2020-05-01 16:00:00\n",
       "3   2020-05-02 00:00:00\n",
       "4   2020-05-02 08:00:00\n",
       "dtype: datetime64[ns]"
      ]
     },
     "execution_count": 26,
     "metadata": {},
     "output_type": "execute_result"
    }
   ],
   "source": [
    "X = pd.Series(data = pd.date_range(start='2020-05-01', end='2020-05-10', freq='8h'))\n",
    "X.head()"
   ]
  },
  {
   "cell_type": "code",
   "execution_count": 27,
   "metadata": {},
   "outputs": [
    {
     "data": {
      "text/plain": [
       "0    2020-05-01\n",
       "1    2020-05-01\n",
       "2    2020-05-01\n",
       "3    2020-05-02\n",
       "4    2020-05-02\n",
       "dtype: object"
      ]
     },
     "execution_count": 27,
     "metadata": {},
     "output_type": "execute_result"
    }
   ],
   "source": [
    "# Series.dt.date\n",
    "\n",
    "X.dt.date.head()"
   ]
  },
  {
   "cell_type": "code",
   "execution_count": 28,
   "metadata": {},
   "outputs": [
    {
     "data": {
      "text/plain": [
       "0    2020-05-01 00:00:00\n",
       "1    2020-05-01 08:00:00\n",
       "2    2020-05-01 16:00:00\n",
       "18   2020-05-07 00:00:00\n",
       "19   2020-05-07 08:00:00\n",
       "20   2020-05-07 16:00:00\n",
       "dtype: datetime64[ns]"
      ]
     },
     "execution_count": 28,
     "metadata": {},
     "output_type": "execute_result"
    }
   ],
   "source": [
    "# Series.dt.day\n",
    "\n",
    "X[X.dt.day.isin([1, 7])]"
   ]
  },
  {
   "cell_type": "code",
   "execution_count": 29,
   "metadata": {},
   "outputs": [
    {
     "data": {
      "text/plain": [
       "3    2020-05-02 00:00:00\n",
       "4    2020-05-02 08:00:00\n",
       "5    2020-05-02 16:00:00\n",
       "24   2020-05-09 00:00:00\n",
       "25   2020-05-09 08:00:00\n",
       "26   2020-05-09 16:00:00\n",
       "dtype: datetime64[ns]"
      ]
     },
     "execution_count": 29,
     "metadata": {},
     "output_type": "execute_result"
    }
   ],
   "source": [
    "# Series.dt.day_name() : to extract day name \n",
    "\n",
    "X[X.dt.day_name() == 'Saturday']"
   ]
  },
  {
   "cell_type": "code",
   "execution_count": 30,
   "metadata": {},
   "outputs": [
    {
     "data": {
      "text/plain": [
       "1    2020-05-01 08:00:00\n",
       "4    2020-05-02 08:00:00\n",
       "7    2020-05-03 08:00:00\n",
       "10   2020-05-04 08:00:00\n",
       "13   2020-05-05 08:00:00\n",
       "16   2020-05-06 08:00:00\n",
       "19   2020-05-07 08:00:00\n",
       "22   2020-05-08 08:00:00\n",
       "25   2020-05-09 08:00:00\n",
       "dtype: datetime64[ns]"
      ]
     },
     "execution_count": 30,
     "metadata": {},
     "output_type": "execute_result"
    }
   ],
   "source": [
    "# Series.dt.hour\n",
    "\n",
    "X[X.dt.hour == 8]"
   ]
  },
  {
   "cell_type": "code",
   "execution_count": 31,
   "metadata": {},
   "outputs": [
    {
     "data": {
      "text/plain": [
       "0    00:00:00\n",
       "1    08:00:00\n",
       "2    16:00:00\n",
       "3    00:00:00\n",
       "4    08:00:00\n",
       "dtype: object"
      ]
     },
     "execution_count": 31,
     "metadata": {},
     "output_type": "execute_result"
    }
   ],
   "source": [
    "# Extract time series.dt.time\n",
    "X.dt.time.head()"
   ]
  }
 ],
 "metadata": {
  "kernelspec": {
   "display_name": "Python3_6",
   "language": "python",
   "name": "test_env_3"
  },
  "language_info": {
   "codemirror_mode": {
    "name": "ipython",
    "version": 3
   },
   "file_extension": ".py",
   "mimetype": "text/x-python",
   "name": "python",
   "nbconvert_exporter": "python",
   "pygments_lexer": "ipython3",
   "version": "3.6.10"
  }
 },
 "nbformat": 4,
 "nbformat_minor": 4
}
